{
 "cells": [
  {
   "cell_type": "code",
   "execution_count": 1,
   "id": "5c6f9db9-af76-4f55-912a-471982ea2150",
   "metadata": {},
   "outputs": [],
   "source": [
    "# Reda Alhamza \n",
    "# ID: 201365390   \n",
    "# MIS 545 - 02\n",
    "# Chapter 5 Assignment "
   ]
  },
  {
   "cell_type": "code",
   "execution_count": 2,
   "id": "d4387270-9cf9-4661-9f47-21e6676d4848",
   "metadata": {},
   "outputs": [],
   "source": [
    "import pandas as pd\n",
    "import numpy as np\n",
    "from sklearn.model_selection import train_test_split\n",
    "import random\n",
    "import matplotlib.pyplot as plt"
   ]
  },
  {
   "cell_type": "code",
   "execution_count": 3,
   "id": "3e9e734d-acab-41c5-9059-e87930d345cc",
   "metadata": {},
   "outputs": [
    {
     "data": {
      "text/html": [
       "<div>\n",
       "<style scoped>\n",
       "    .dataframe tbody tr th:only-of-type {\n",
       "        vertical-align: middle;\n",
       "    }\n",
       "\n",
       "    .dataframe tbody tr th {\n",
       "        vertical-align: top;\n",
       "    }\n",
       "\n",
       "    .dataframe thead th {\n",
       "        text-align: right;\n",
       "    }\n",
       "</style>\n",
       "<table border=\"1\" class=\"dataframe\">\n",
       "  <thead>\n",
       "    <tr style=\"text-align: right;\">\n",
       "      <th></th>\n",
       "      <th>age</th>\n",
       "      <th>workclass</th>\n",
       "      <th>demogweight</th>\n",
       "      <th>education</th>\n",
       "      <th>education-num</th>\n",
       "      <th>marital-status</th>\n",
       "      <th>occupation</th>\n",
       "      <th>relationship</th>\n",
       "      <th>race</th>\n",
       "      <th>sex</th>\n",
       "      <th>capital-gain</th>\n",
       "      <th>capital-loss</th>\n",
       "      <th>hours-per-week</th>\n",
       "      <th>native-country</th>\n",
       "      <th>income</th>\n",
       "    </tr>\n",
       "  </thead>\n",
       "  <tbody>\n",
       "    <tr>\n",
       "      <th>0</th>\n",
       "      <td>39</td>\n",
       "      <td>State-gov</td>\n",
       "      <td>77516</td>\n",
       "      <td>Bachelors</td>\n",
       "      <td>13</td>\n",
       "      <td>Never-married</td>\n",
       "      <td>Adm-clerical</td>\n",
       "      <td>Not-in-family</td>\n",
       "      <td>White</td>\n",
       "      <td>Male</td>\n",
       "      <td>2174</td>\n",
       "      <td>0</td>\n",
       "      <td>40</td>\n",
       "      <td>United-States</td>\n",
       "      <td>&lt;=50K.</td>\n",
       "    </tr>\n",
       "    <tr>\n",
       "      <th>1</th>\n",
       "      <td>50</td>\n",
       "      <td>Self-emp-not-inc</td>\n",
       "      <td>83311</td>\n",
       "      <td>Bachelors</td>\n",
       "      <td>13</td>\n",
       "      <td>Married-civ-spouse</td>\n",
       "      <td>Exec-managerial</td>\n",
       "      <td>Husband</td>\n",
       "      <td>White</td>\n",
       "      <td>Male</td>\n",
       "      <td>0</td>\n",
       "      <td>0</td>\n",
       "      <td>13</td>\n",
       "      <td>United-States</td>\n",
       "      <td>&lt;=50K.</td>\n",
       "    </tr>\n",
       "    <tr>\n",
       "      <th>2</th>\n",
       "      <td>38</td>\n",
       "      <td>Private</td>\n",
       "      <td>215646</td>\n",
       "      <td>HS-grad</td>\n",
       "      <td>9</td>\n",
       "      <td>Divorced</td>\n",
       "      <td>Handlers-cleaners</td>\n",
       "      <td>Not-in-family</td>\n",
       "      <td>White</td>\n",
       "      <td>Male</td>\n",
       "      <td>0</td>\n",
       "      <td>0</td>\n",
       "      <td>40</td>\n",
       "      <td>United-States</td>\n",
       "      <td>&lt;=50K.</td>\n",
       "    </tr>\n",
       "    <tr>\n",
       "      <th>3</th>\n",
       "      <td>53</td>\n",
       "      <td>Private</td>\n",
       "      <td>234721</td>\n",
       "      <td>11th</td>\n",
       "      <td>7</td>\n",
       "      <td>Married-civ-spouse</td>\n",
       "      <td>Handlers-cleaners</td>\n",
       "      <td>Husband</td>\n",
       "      <td>Black</td>\n",
       "      <td>Male</td>\n",
       "      <td>0</td>\n",
       "      <td>0</td>\n",
       "      <td>40</td>\n",
       "      <td>United-States</td>\n",
       "      <td>&lt;=50K.</td>\n",
       "    </tr>\n",
       "    <tr>\n",
       "      <th>4</th>\n",
       "      <td>28</td>\n",
       "      <td>Private</td>\n",
       "      <td>338409</td>\n",
       "      <td>Bachelors</td>\n",
       "      <td>13</td>\n",
       "      <td>Married-civ-spouse</td>\n",
       "      <td>Prof-specialty</td>\n",
       "      <td>Wife</td>\n",
       "      <td>Black</td>\n",
       "      <td>Female</td>\n",
       "      <td>0</td>\n",
       "      <td>0</td>\n",
       "      <td>40</td>\n",
       "      <td>Cuba</td>\n",
       "      <td>&lt;=50K.</td>\n",
       "    </tr>\n",
       "    <tr>\n",
       "      <th>...</th>\n",
       "      <td>...</td>\n",
       "      <td>...</td>\n",
       "      <td>...</td>\n",
       "      <td>...</td>\n",
       "      <td>...</td>\n",
       "      <td>...</td>\n",
       "      <td>...</td>\n",
       "      <td>...</td>\n",
       "      <td>...</td>\n",
       "      <td>...</td>\n",
       "      <td>...</td>\n",
       "      <td>...</td>\n",
       "      <td>...</td>\n",
       "      <td>...</td>\n",
       "      <td>...</td>\n",
       "    </tr>\n",
       "    <tr>\n",
       "      <th>24995</th>\n",
       "      <td>41</td>\n",
       "      <td>Private</td>\n",
       "      <td>112507</td>\n",
       "      <td>10th</td>\n",
       "      <td>6</td>\n",
       "      <td>Married-civ-spouse</td>\n",
       "      <td>Transport-moving</td>\n",
       "      <td>Husband</td>\n",
       "      <td>White</td>\n",
       "      <td>Male</td>\n",
       "      <td>0</td>\n",
       "      <td>0</td>\n",
       "      <td>60</td>\n",
       "      <td>United-States</td>\n",
       "      <td>&lt;=50K.</td>\n",
       "    </tr>\n",
       "    <tr>\n",
       "      <th>24996</th>\n",
       "      <td>19</td>\n",
       "      <td>Private</td>\n",
       "      <td>236940</td>\n",
       "      <td>HS-grad</td>\n",
       "      <td>9</td>\n",
       "      <td>Never-married</td>\n",
       "      <td>Farming-fishing</td>\n",
       "      <td>Own-child</td>\n",
       "      <td>White</td>\n",
       "      <td>Male</td>\n",
       "      <td>0</td>\n",
       "      <td>0</td>\n",
       "      <td>40</td>\n",
       "      <td>United-States</td>\n",
       "      <td>&lt;=50K.</td>\n",
       "    </tr>\n",
       "    <tr>\n",
       "      <th>24997</th>\n",
       "      <td>33</td>\n",
       "      <td>Private</td>\n",
       "      <td>278514</td>\n",
       "      <td>HS-grad</td>\n",
       "      <td>9</td>\n",
       "      <td>Divorced</td>\n",
       "      <td>Craft-repair</td>\n",
       "      <td>Own-child</td>\n",
       "      <td>White</td>\n",
       "      <td>Female</td>\n",
       "      <td>0</td>\n",
       "      <td>0</td>\n",
       "      <td>42</td>\n",
       "      <td>United-States</td>\n",
       "      <td>&lt;=50K.</td>\n",
       "    </tr>\n",
       "    <tr>\n",
       "      <th>24998</th>\n",
       "      <td>21</td>\n",
       "      <td>?</td>\n",
       "      <td>433330</td>\n",
       "      <td>Some-college</td>\n",
       "      <td>10</td>\n",
       "      <td>Never-married</td>\n",
       "      <td>?</td>\n",
       "      <td>Unmarried</td>\n",
       "      <td>White</td>\n",
       "      <td>Male</td>\n",
       "      <td>0</td>\n",
       "      <td>0</td>\n",
       "      <td>40</td>\n",
       "      <td>United-States</td>\n",
       "      <td>&lt;=50K.</td>\n",
       "    </tr>\n",
       "    <tr>\n",
       "      <th>24999</th>\n",
       "      <td>25</td>\n",
       "      <td>Private</td>\n",
       "      <td>258379</td>\n",
       "      <td>Bachelors</td>\n",
       "      <td>13</td>\n",
       "      <td>Married-civ-spouse</td>\n",
       "      <td>Prof-specialty</td>\n",
       "      <td>Wife</td>\n",
       "      <td>White</td>\n",
       "      <td>Female</td>\n",
       "      <td>0</td>\n",
       "      <td>0</td>\n",
       "      <td>32</td>\n",
       "      <td>United-States</td>\n",
       "      <td>&lt;=50K.</td>\n",
       "    </tr>\n",
       "  </tbody>\n",
       "</table>\n",
       "<p>25000 rows × 15 columns</p>\n",
       "</div>"
      ],
      "text/plain": [
       "       age         workclass  demogweight     education  education-num  \\\n",
       "0       39         State-gov        77516     Bachelors             13   \n",
       "1       50  Self-emp-not-inc        83311     Bachelors             13   \n",
       "2       38           Private       215646       HS-grad              9   \n",
       "3       53           Private       234721          11th              7   \n",
       "4       28           Private       338409     Bachelors             13   \n",
       "...    ...               ...          ...           ...            ...   \n",
       "24995   41           Private       112507          10th              6   \n",
       "24996   19           Private       236940       HS-grad              9   \n",
       "24997   33           Private       278514       HS-grad              9   \n",
       "24998   21                 ?       433330  Some-college             10   \n",
       "24999   25           Private       258379     Bachelors             13   \n",
       "\n",
       "           marital-status         occupation   relationship   race     sex  \\\n",
       "0           Never-married       Adm-clerical  Not-in-family  White    Male   \n",
       "1      Married-civ-spouse    Exec-managerial        Husband  White    Male   \n",
       "2                Divorced  Handlers-cleaners  Not-in-family  White    Male   \n",
       "3      Married-civ-spouse  Handlers-cleaners        Husband  Black    Male   \n",
       "4      Married-civ-spouse     Prof-specialty           Wife  Black  Female   \n",
       "...                   ...                ...            ...    ...     ...   \n",
       "24995  Married-civ-spouse   Transport-moving        Husband  White    Male   \n",
       "24996       Never-married    Farming-fishing      Own-child  White    Male   \n",
       "24997            Divorced       Craft-repair      Own-child  White  Female   \n",
       "24998       Never-married                  ?      Unmarried  White    Male   \n",
       "24999  Married-civ-spouse     Prof-specialty           Wife  White  Female   \n",
       "\n",
       "       capital-gain  capital-loss  hours-per-week native-country  income  \n",
       "0              2174             0              40  United-States  <=50K.  \n",
       "1                 0             0              13  United-States  <=50K.  \n",
       "2                 0             0              40  United-States  <=50K.  \n",
       "3                 0             0              40  United-States  <=50K.  \n",
       "4                 0             0              40           Cuba  <=50K.  \n",
       "...             ...           ...             ...            ...     ...  \n",
       "24995             0             0              60  United-States  <=50K.  \n",
       "24996             0             0              40  United-States  <=50K.  \n",
       "24997             0             0              42  United-States  <=50K.  \n",
       "24998             0             0              40  United-States  <=50K.  \n",
       "24999             0             0              32  United-States  <=50K.  \n",
       "\n",
       "[25000 rows x 15 columns]"
      ]
     },
     "execution_count": 3,
     "metadata": {},
     "output_type": "execute_result"
    }
   ],
   "source": [
    "adult = pd.read_csv(\"D:/DatasetsP/Adult\")\n",
    "adult"
   ]
  },
  {
   "cell_type": "code",
   "execution_count": 4,
   "id": "87ad3600-3b3c-45cc-82bb-27faa733cddd",
   "metadata": {},
   "outputs": [],
   "source": [
    "# Q1: Partition the data set, so that 50% of the records are included in the training data set and 50% are included in the test data set. \n",
    "# Use a bar graph to view and confirm your proportions as shown in the following diagram."
   ]
  },
  {
   "cell_type": "code",
   "execution_count": 5,
   "id": "39120d60-9567-4574-bb97-28c1d8ba6506",
   "metadata": {},
   "outputs": [],
   "source": [
    "adult_train, adult_test = train_test_split(adult, test_size = 0.50, random_state = 7)"
   ]
  },
  {
   "cell_type": "code",
   "execution_count": 38,
   "id": "9944def2-9ae9-4293-8b8e-1b52e0d6de26",
   "metadata": {},
   "outputs": [
    {
     "ename": "TypeError",
     "evalue": "bar() missing 1 required positional argument: 'height'",
     "output_type": "error",
     "traceback": [
      "\u001b[1;31m---------------------------------------------------------------------------\u001b[0m",
      "\u001b[1;31mTypeError\u001b[0m                                 Traceback (most recent call last)",
      "\u001b[1;32m<ipython-input-38-e66fa4d51c33>\u001b[0m in \u001b[0;36m<module>\u001b[1;34m\u001b[0m\n\u001b[1;32m----> 1\u001b[1;33m \u001b[0mplt\u001b[0m\u001b[1;33m.\u001b[0m\u001b[0mbar\u001b[0m\u001b[1;33m(\u001b[0m\u001b[0mtrain_test_split\u001b[0m\u001b[1;33m(\u001b[0m\u001b[0madult\u001b[0m\u001b[1;33m,\u001b[0m \u001b[0mtest_size\u001b[0m \u001b[1;33m=\u001b[0m \u001b[1;36m0.50\u001b[0m\u001b[1;33m,\u001b[0m \u001b[0mrandom_state\u001b[0m \u001b[1;33m=\u001b[0m \u001b[1;36m7\u001b[0m\u001b[1;33m)\u001b[0m\u001b[1;33m)\u001b[0m\u001b[1;33m\u001b[0m\u001b[1;33m\u001b[0m\u001b[0m\n\u001b[0m",
      "\u001b[1;31mTypeError\u001b[0m: bar() missing 1 required positional argument: 'height'"
     ]
    }
   ],
   "source": []
  },
  {
   "cell_type": "code",
   "execution_count": 6,
   "id": "b3ef8671-fafe-4097-a9e6-1bf930efbc15",
   "metadata": {},
   "outputs": [],
   "source": [
    "#crosstab = pd.crosstab(adult_train['age'].value_counts(),adult_test['age'].value_counts())"
   ]
  },
  {
   "cell_type": "code",
   "execution_count": 7,
   "id": "33d088da-bf1e-4002-9f92-bd49316a21a6",
   "metadata": {},
   "outputs": [],
   "source": [
    "#portion = "
   ]
  },
  {
   "cell_type": "code",
   "execution_count": 8,
   "id": "f87c0a47-2095-4e9a-8405-4d0fb59a6387",
   "metadata": {},
   "outputs": [],
   "source": [
    "#df = pd.DataFrame(adult_train.loc[0], adult_test.loc[0])\n",
    "#df"
   ]
  },
  {
   "cell_type": "code",
   "execution_count": 9,
   "id": "c0e646c6-efa4-4d57-93f9-b8dceb92e393",
   "metadata": {},
   "outputs": [],
   "source": [
    "#train = adult_train.shape[0] / adult.shape[0]\n",
    "#test = train = adult_test.shape[0] / adult.shape[0]\n",
    "\n",
    "#CT = pd.DataFrame(adult_train.loc[0], adult_test.loc[0])\n",
    "\n",
    "#plt.bar(train)\n",
    "#plt.bar(test)\n",
    "#fig, ax=plt.subplots()\n",
    "#ax=plt.bar(train, 0.5, label='Train')\n",
    "#ax=plt.bar(test, 0.5, label='Test')\n",
    "\n",
    "\n",
    "#plt.legend(labels = ['Portion'])\n",
    "#plt.xlabel('Partition')\n",
    "#plt.show()"
   ]
  },
  {
   "cell_type": "code",
   "execution_count": 10,
   "id": "b6f8f82f-0b2a-48c0-95bc-1eb23ef73ddf",
   "metadata": {},
   "outputs": [
    {
     "data": {
      "image/png": "[encoded data removed]",
      "text/plain": [
       "<Figure size 432x288 with 1 Axes>"
      ]
     },
     "metadata": {
      "needs_background": "light"
     },
     "output_type": "display_data"
    }
   ],
   "source": [
    "adult_train = pd.DataFrame(adult_train)\n",
    "train = adult_train.shape[0] / adult.shape[0]\n",
    "\n",
    "adult_test = pd.DataFrame(adult_test)\n",
    "test = adult_test.shape[0] / adult.shape[0]\n",
    "\n",
    "plt.bar(train,test, 0.5, label='Train')\n",
    "\n",
    "plt.legend(labels = ['Portion'])\n",
    "plt.xlabel('Partition')\n",
    "plt.show()"
   ]
  },
  {
   "cell_type": "code",
   "execution_count": 11,
   "id": "6324883a-c282-4eba-afe9-a309f4597d5e",
   "metadata": {},
   "outputs": [],
   "source": [
    "#Q2: Identify the total number of records in the training data set, \n",
    "# and how many records in the training data set have an income value greater than 50 K."
   ]
  },
  {
   "cell_type": "code",
   "execution_count": 12,
   "id": "2fcf3bed-0324-4d7e-9c56-3f1200b7a9a4",
   "metadata": {},
   "outputs": [
    {
     "data": {
      "text/plain": [
       "12500"
      ]
     },
     "execution_count": 12,
     "metadata": {},
     "output_type": "execute_result"
    }
   ],
   "source": [
    "adult_train.shape[0]\n",
    "# gives me the number of total records which is 12500."
   ]
  },
  {
   "cell_type": "code",
   "execution_count": 13,
   "id": "e4890b08-bcb2-4ed0-be41-a0aca0685d7a",
   "metadata": {},
   "outputs": [
    {
     "data": {
      "text/plain": [
       "2981"
      ]
     },
     "execution_count": 13,
     "metadata": {},
     "output_type": "execute_result"
    }
   ],
   "source": [
    "income = adult_train.loc[adult['income'] == \">50K.\"]\n",
    "income.shape[0]\n",
    "# 2981 records in the training data set that have and income value greater than 50K"
   ]
  },
  {
   "cell_type": "code",
   "execution_count": 14,
   "id": "25d582ba-5c5d-439a-be75-bc2504be6883",
   "metadata": {},
   "outputs": [],
   "source": [
    "# Q3: Using the info resulted from Q2, calculate how many records with income >50 K you need \n",
    "# to resample in order to have 35% of the rebalanced data set have incomes of >50 K.\n",
    "# (Hint: use the method shape to retrieve the number of records)"
   ]
  },
  {
   "cell_type": "code",
   "execution_count": 15,
   "id": "90eebf89-fdbd-4827-979f-522df318c725",
   "metadata": {},
   "outputs": [
    {
     "data": {
      "text/plain": [
       "2144.6153846153848"
      ]
     },
     "execution_count": 15,
     "metadata": {},
     "output_type": "execute_result"
    }
   ],
   "source": [
    "x = (0.35*(12500)-2981)/(1-0.35)\n",
    "x # needed records to be resampled after rounding up= 2145"
   ]
  },
  {
   "cell_type": "code",
   "execution_count": 16,
   "id": "981f0183-eae7-4982-b8e3-3a8f5fcd1f4a",
   "metadata": {},
   "outputs": [],
   "source": [
    "# Q4: Perform the rebalancing described in the result of Q3 and confirm that 35% of the records in the rebalanced data set have incomes >50 K. \n",
    "# (Hint: once resample, count the number of each subset, and then divide it by the total number to get the percentage ratio for each one)"
   ]
  },
  {
   "cell_type": "code",
   "execution_count": 39,
   "id": "aaddde54-a9e2-4eb3-99ea-500cf5a6004e",
   "metadata": {},
   "outputs": [
    {
     "data": {
      "text/html": [
       "<div>\n",
       "<style scoped>\n",
       "    .dataframe tbody tr th:only-of-type {\n",
       "        vertical-align: middle;\n",
       "    }\n",
       "\n",
       "    .dataframe tbody tr th {\n",
       "        vertical-align: top;\n",
       "    }\n",
       "\n",
       "    .dataframe thead th {\n",
       "        text-align: right;\n",
       "    }\n",
       "</style>\n",
       "<table border=\"1\" class=\"dataframe\">\n",
       "  <thead>\n",
       "    <tr style=\"text-align: right;\">\n",
       "      <th></th>\n",
       "      <th>age</th>\n",
       "      <th>workclass</th>\n",
       "      <th>demogweight</th>\n",
       "      <th>education</th>\n",
       "      <th>education-num</th>\n",
       "      <th>marital-status</th>\n",
       "      <th>occupation</th>\n",
       "      <th>relationship</th>\n",
       "      <th>race</th>\n",
       "      <th>sex</th>\n",
       "      <th>capital-gain</th>\n",
       "      <th>capital-loss</th>\n",
       "      <th>hours-per-week</th>\n",
       "      <th>native-country</th>\n",
       "      <th>income</th>\n",
       "    </tr>\n",
       "  </thead>\n",
       "  <tbody>\n",
       "    <tr>\n",
       "      <th>14773</th>\n",
       "      <td>44</td>\n",
       "      <td>Private</td>\n",
       "      <td>755858</td>\n",
       "      <td>HS-grad</td>\n",
       "      <td>9</td>\n",
       "      <td>Married-civ-spouse</td>\n",
       "      <td>Craft-repair</td>\n",
       "      <td>Husband</td>\n",
       "      <td>White</td>\n",
       "      <td>Male</td>\n",
       "      <td>0</td>\n",
       "      <td>0</td>\n",
       "      <td>70</td>\n",
       "      <td>United-States</td>\n",
       "      <td>&gt;50K.</td>\n",
       "    </tr>\n",
       "    <tr>\n",
       "      <th>12745</th>\n",
       "      <td>39</td>\n",
       "      <td>Private</td>\n",
       "      <td>306646</td>\n",
       "      <td>Some-college</td>\n",
       "      <td>10</td>\n",
       "      <td>Married-civ-spouse</td>\n",
       "      <td>Sales</td>\n",
       "      <td>Husband</td>\n",
       "      <td>White</td>\n",
       "      <td>Male</td>\n",
       "      <td>3103</td>\n",
       "      <td>0</td>\n",
       "      <td>50</td>\n",
       "      <td>United-States</td>\n",
       "      <td>&gt;50K.</td>\n",
       "    </tr>\n",
       "    <tr>\n",
       "      <th>1162</th>\n",
       "      <td>33</td>\n",
       "      <td>Private</td>\n",
       "      <td>114691</td>\n",
       "      <td>Bachelors</td>\n",
       "      <td>13</td>\n",
       "      <td>Married-civ-spouse</td>\n",
       "      <td>Sales</td>\n",
       "      <td>Husband</td>\n",
       "      <td>White</td>\n",
       "      <td>Male</td>\n",
       "      <td>0</td>\n",
       "      <td>0</td>\n",
       "      <td>60</td>\n",
       "      <td>United-States</td>\n",
       "      <td>&gt;50K.</td>\n",
       "    </tr>\n",
       "    <tr>\n",
       "      <th>10657</th>\n",
       "      <td>41</td>\n",
       "      <td>Local-gov</td>\n",
       "      <td>235951</td>\n",
       "      <td>Prof-school</td>\n",
       "      <td>15</td>\n",
       "      <td>Married-civ-spouse</td>\n",
       "      <td>Prof-specialty</td>\n",
       "      <td>Husband</td>\n",
       "      <td>White</td>\n",
       "      <td>Male</td>\n",
       "      <td>0</td>\n",
       "      <td>0</td>\n",
       "      <td>50</td>\n",
       "      <td>United-States</td>\n",
       "      <td>&gt;50K.</td>\n",
       "    </tr>\n",
       "    <tr>\n",
       "      <th>5798</th>\n",
       "      <td>49</td>\n",
       "      <td>Self-emp-inc</td>\n",
       "      <td>349230</td>\n",
       "      <td>Assoc-voc</td>\n",
       "      <td>11</td>\n",
       "      <td>Married-civ-spouse</td>\n",
       "      <td>Exec-managerial</td>\n",
       "      <td>Husband</td>\n",
       "      <td>White</td>\n",
       "      <td>Male</td>\n",
       "      <td>0</td>\n",
       "      <td>0</td>\n",
       "      <td>60</td>\n",
       "      <td>United-States</td>\n",
       "      <td>&gt;50K.</td>\n",
       "    </tr>\n",
       "    <tr>\n",
       "      <th>...</th>\n",
       "      <td>...</td>\n",
       "      <td>...</td>\n",
       "      <td>...</td>\n",
       "      <td>...</td>\n",
       "      <td>...</td>\n",
       "      <td>...</td>\n",
       "      <td>...</td>\n",
       "      <td>...</td>\n",
       "      <td>...</td>\n",
       "      <td>...</td>\n",
       "      <td>...</td>\n",
       "      <td>...</td>\n",
       "      <td>...</td>\n",
       "      <td>...</td>\n",
       "      <td>...</td>\n",
       "    </tr>\n",
       "    <tr>\n",
       "      <th>24064</th>\n",
       "      <td>50</td>\n",
       "      <td>Self-emp-inc</td>\n",
       "      <td>163921</td>\n",
       "      <td>HS-grad</td>\n",
       "      <td>9</td>\n",
       "      <td>Married-civ-spouse</td>\n",
       "      <td>Sales</td>\n",
       "      <td>Husband</td>\n",
       "      <td>White</td>\n",
       "      <td>Male</td>\n",
       "      <td>0</td>\n",
       "      <td>0</td>\n",
       "      <td>48</td>\n",
       "      <td>United-States</td>\n",
       "      <td>&gt;50K.</td>\n",
       "    </tr>\n",
       "    <tr>\n",
       "      <th>22399</th>\n",
       "      <td>46</td>\n",
       "      <td>Private</td>\n",
       "      <td>165953</td>\n",
       "      <td>Bachelors</td>\n",
       "      <td>13</td>\n",
       "      <td>Married-civ-spouse</td>\n",
       "      <td>Adm-clerical</td>\n",
       "      <td>Husband</td>\n",
       "      <td>White</td>\n",
       "      <td>Male</td>\n",
       "      <td>0</td>\n",
       "      <td>0</td>\n",
       "      <td>45</td>\n",
       "      <td>United-States</td>\n",
       "      <td>&gt;50K.</td>\n",
       "    </tr>\n",
       "    <tr>\n",
       "      <th>17840</th>\n",
       "      <td>33</td>\n",
       "      <td>Private</td>\n",
       "      <td>392812</td>\n",
       "      <td>Some-college</td>\n",
       "      <td>10</td>\n",
       "      <td>Married-civ-spouse</td>\n",
       "      <td>Handlers-cleaners</td>\n",
       "      <td>Husband</td>\n",
       "      <td>White</td>\n",
       "      <td>Male</td>\n",
       "      <td>0</td>\n",
       "      <td>0</td>\n",
       "      <td>50</td>\n",
       "      <td>United-States</td>\n",
       "      <td>&gt;50K.</td>\n",
       "    </tr>\n",
       "    <tr>\n",
       "      <th>19623</th>\n",
       "      <td>43</td>\n",
       "      <td>Private</td>\n",
       "      <td>124436</td>\n",
       "      <td>Some-college</td>\n",
       "      <td>10</td>\n",
       "      <td>Married-civ-spouse</td>\n",
       "      <td>Prof-specialty</td>\n",
       "      <td>Wife</td>\n",
       "      <td>White</td>\n",
       "      <td>Female</td>\n",
       "      <td>0</td>\n",
       "      <td>0</td>\n",
       "      <td>40</td>\n",
       "      <td>United-States</td>\n",
       "      <td>&gt;50K.</td>\n",
       "    </tr>\n",
       "    <tr>\n",
       "      <th>2583</th>\n",
       "      <td>41</td>\n",
       "      <td>Private</td>\n",
       "      <td>168071</td>\n",
       "      <td>Bachelors</td>\n",
       "      <td>13</td>\n",
       "      <td>Married-civ-spouse</td>\n",
       "      <td>Exec-managerial</td>\n",
       "      <td>Husband</td>\n",
       "      <td>White</td>\n",
       "      <td>Male</td>\n",
       "      <td>7298</td>\n",
       "      <td>0</td>\n",
       "      <td>50</td>\n",
       "      <td>United-States</td>\n",
       "      <td>&gt;50K.</td>\n",
       "    </tr>\n",
       "  </tbody>\n",
       "</table>\n",
       "<p>2981 rows × 15 columns</p>\n",
       "</div>"
      ],
      "text/plain": [
       "       age     workclass  demogweight     education  education-num  \\\n",
       "14773   44       Private       755858       HS-grad              9   \n",
       "12745   39       Private       306646  Some-college             10   \n",
       "1162    33       Private       114691     Bachelors             13   \n",
       "10657   41     Local-gov       235951   Prof-school             15   \n",
       "5798    49  Self-emp-inc       349230     Assoc-voc             11   \n",
       "...    ...           ...          ...           ...            ...   \n",
       "24064   50  Self-emp-inc       163921       HS-grad              9   \n",
       "22399   46       Private       165953     Bachelors             13   \n",
       "17840   33       Private       392812  Some-college             10   \n",
       "19623   43       Private       124436  Some-college             10   \n",
       "2583    41       Private       168071     Bachelors             13   \n",
       "\n",
       "           marital-status         occupation relationship   race     sex  \\\n",
       "14773  Married-civ-spouse       Craft-repair      Husband  White    Male   \n",
       "12745  Married-civ-spouse              Sales      Husband  White    Male   \n",
       "1162   Married-civ-spouse              Sales      Husband  White    Male   \n",
       "10657  Married-civ-spouse     Prof-specialty      Husband  White    Male   \n",
       "5798   Married-civ-spouse    Exec-managerial      Husband  White    Male   \n",
       "...                   ...                ...          ...    ...     ...   \n",
       "24064  Married-civ-spouse              Sales      Husband  White    Male   \n",
       "22399  Married-civ-spouse       Adm-clerical      Husband  White    Male   \n",
       "17840  Married-civ-spouse  Handlers-cleaners      Husband  White    Male   \n",
       "19623  Married-civ-spouse     Prof-specialty         Wife  White  Female   \n",
       "2583   Married-civ-spouse    Exec-managerial      Husband  White    Male   \n",
       "\n",
       "       capital-gain  capital-loss  hours-per-week native-country income  \n",
       "14773             0             0              70  United-States  >50K.  \n",
       "12745          3103             0              50  United-States  >50K.  \n",
       "1162              0             0              60  United-States  >50K.  \n",
       "10657             0             0              50  United-States  >50K.  \n",
       "5798              0             0              60  United-States  >50K.  \n",
       "...             ...           ...             ...            ...    ...  \n",
       "24064             0             0              48  United-States  >50K.  \n",
       "22399             0             0              45  United-States  >50K.  \n",
       "17840             0             0              50  United-States  >50K.  \n",
       "19623             0             0              40  United-States  >50K.  \n",
       "2583           7298             0              50  United-States  >50K.  \n",
       "\n",
       "[2981 rows x 15 columns]"
      ]
     },
     "execution_count": 39,
     "metadata": {},
     "output_type": "execute_result"
    }
   ],
   "source": [
    "to_resample = adult_train.loc[adult['income'] == \">50K.\"]\n",
    "to_resample"
   ]
  },
  {
   "cell_type": "code",
   "execution_count": 18,
   "id": "6a5a4e6c-3f73-472e-b1e9-a92b7d3ae9a5",
   "metadata": {},
   "outputs": [
    {
     "data": {
      "text/plain": [
       "(2145, 15)"
      ]
     },
     "execution_count": 18,
     "metadata": {},
     "output_type": "execute_result"
    }
   ],
   "source": [
    "our_resample = to_resample.sample( n = 2145 , replace = True)\n",
    "our_resample.shape"
   ]
  },
  {
   "cell_type": "code",
   "execution_count": 19,
   "id": "a2d6c7d6-629b-4ca3-b43b-f7077e1ba363",
   "metadata": {},
   "outputs": [
    {
     "data": {
      "text/plain": [
       "(14645, 15)"
      ]
     },
     "execution_count": 19,
     "metadata": {},
     "output_type": "execute_result"
    }
   ],
   "source": [
    "adult_train_rebal = pd.concat([adult_train, our_resample])\n",
    "adult_train_rebal.shape"
   ]
  },
  {
   "cell_type": "code",
   "execution_count": 20,
   "id": "3186eadd-77d2-4259-bfa7-610af7f07420",
   "metadata": {},
   "outputs": [
    {
     "data": {
      "text/plain": [
       "14645"
      ]
     },
     "execution_count": 20,
     "metadata": {},
     "output_type": "execute_result"
    }
   ],
   "source": [
    "n = adult_train_rebal.shape[0]\n",
    "n"
   ]
  },
  {
   "cell_type": "code",
   "execution_count": 21,
   "id": "32fad9a0-c7b2-485d-8933-c4249eea39ea",
   "metadata": {},
   "outputs": [
    {
     "data": {
      "text/plain": [
       "5126"
      ]
     },
     "execution_count": 21,
     "metadata": {},
     "output_type": "execute_result"
    }
   ],
   "source": [
    "bal = adult_train_rebal.loc[adult['income'] == \">50K.\"].shape[0]\n",
    "bal"
   ]
  },
  {
   "cell_type": "code",
   "execution_count": 22,
   "id": "c1d07f16-3687-47e9-bfd3-f1687eb274b4",
   "metadata": {},
   "outputs": [
    {
     "data": {
      "text/plain": [
       "0.3500170706725845"
      ]
     },
     "execution_count": 22,
     "metadata": {},
     "output_type": "execute_result"
    }
   ],
   "source": [
    "ratio_1 = bal/n\n",
    "ratio_1\n",
    "# Ratio for >50K."
   ]
  },
  {
   "cell_type": "code",
   "execution_count": 23,
   "id": "3eced899-747a-4309-b92c-327e942c2ea4",
   "metadata": {},
   "outputs": [
    {
     "data": {
      "text/plain": [
       "9519"
      ]
     },
     "execution_count": 23,
     "metadata": {},
     "output_type": "execute_result"
    }
   ],
   "source": [
    "notbal = adult_train_rebal.loc[adult['income'] == \"<=50K.\"].shape[0]\n",
    "notbal"
   ]
  },
  {
   "cell_type": "code",
   "execution_count": 24,
   "id": "1f19584b-e0a9-4f48-9688-80e9cefe1a9d",
   "metadata": {},
   "outputs": [
    {
     "data": {
      "text/plain": [
       "0.6499829293274155"
      ]
     },
     "execution_count": 24,
     "metadata": {},
     "output_type": "execute_result"
    }
   ],
   "source": [
    "ratio_2 = notbal/n\n",
    "ratio_2\n",
    "# Ratio for <=50K."
   ]
  },
  {
   "cell_type": "code",
   "execution_count": 25,
   "id": "101af838-5c91-4992-bbd1-1e53f8b82a59",
   "metadata": {},
   "outputs": [],
   "source": [
    "# Q5: Validate your partition by performing a two‐sample Z‐test for the difference in proportions \n",
    "# for the proportion of >50 K records in the training set versus the proportion of >50 K records in the test set."
   ]
  },
  {
   "cell_type": "code",
   "execution_count": 26,
   "id": "d759d772-ec84-47ee-9077-1c94b2abe656",
   "metadata": {},
   "outputs": [],
   "source": [
    "from numpy import sqrt, abs, round\n",
    "from scipy.stats import norm\n",
    "from statistics import stdev"
   ]
  },
  {
   "cell_type": "code",
   "execution_count": 27,
   "id": "413beec6-b723-4c69-b0b4-1f977cb08821",
   "metadata": {},
   "outputs": [
    {
     "data": {
      "text/plain": [
       "12500"
      ]
     },
     "execution_count": 27,
     "metadata": {},
     "output_type": "execute_result"
    }
   ],
   "source": [
    "n1 = adult_train.shape[0]\n",
    "n1"
   ]
  },
  {
   "cell_type": "code",
   "execution_count": 28,
   "id": "fd10f19d-c724-4450-8030-eb773aac0799",
   "metadata": {},
   "outputs": [
    {
     "data": {
      "text/plain": [
       "2981"
      ]
     },
     "execution_count": 28,
     "metadata": {},
     "output_type": "execute_result"
    }
   ],
   "source": [
    "x1 = adult_train.loc[adult['income'] == \">50K.\"].shape[0]\n",
    "x1"
   ]
  },
  {
   "cell_type": "code",
   "execution_count": 29,
   "id": "a0917ce1-01fd-4e7f-9eee-9649519aeec0",
   "metadata": {},
   "outputs": [
    {
     "data": {
      "text/plain": [
       "0.23848"
      ]
     },
     "execution_count": 29,
     "metadata": {},
     "output_type": "execute_result"
    }
   ],
   "source": [
    "p1 = x1 / n1\n",
    "p1"
   ]
  },
  {
   "cell_type": "code",
   "execution_count": 30,
   "id": "d6d004c8-3a5a-4c90-86e8-a1f74328ffc6",
   "metadata": {},
   "outputs": [
    {
     "data": {
      "text/plain": [
       "12500"
      ]
     },
     "execution_count": 30,
     "metadata": {},
     "output_type": "execute_result"
    }
   ],
   "source": [
    "n2 = adult_test.shape[0]\n",
    "n2"
   ]
  },
  {
   "cell_type": "code",
   "execution_count": 31,
   "id": "8390d636-4e28-4a81-ba9d-68377d0f7364",
   "metadata": {},
   "outputs": [],
   "source": [
    "x2 = adult_test.loc[adult['income'] == \">50K.\"].shape[0]"
   ]
  },
  {
   "cell_type": "code",
   "execution_count": 32,
   "id": "73090138-47ad-4f18-9464-ac0858d4796a",
   "metadata": {},
   "outputs": [
    {
     "data": {
      "text/plain": [
       "0.24024"
      ]
     },
     "execution_count": 32,
     "metadata": {},
     "output_type": "execute_result"
    }
   ],
   "source": [
    "p2 = x2/n2\n",
    "p2"
   ]
  },
  {
   "cell_type": "code",
   "execution_count": 33,
   "id": "63e0a58b-10ec-4910-8140-d25bffc864a0",
   "metadata": {},
   "outputs": [
    {
     "data": {
      "text/plain": [
       "0.23936"
      ]
     },
     "execution_count": 33,
     "metadata": {},
     "output_type": "execute_result"
    }
   ],
   "source": [
    "p = (p1*n1+p2*n2)/(n1+n2)\n",
    "p"
   ]
  },
  {
   "cell_type": "code",
   "execution_count": 34,
   "id": "7ccb3eb5-29e2-45d3-a271-ee48f7fdc4cb",
   "metadata": {},
   "outputs": [
    {
     "data": {
      "text/plain": [
       "0.005397285101233768"
      ]
     },
     "execution_count": 34,
     "metadata": {},
     "output_type": "execute_result"
    }
   ],
   "source": [
    "pooledSE = sqrt(p*(1-p)*(1/n1+1/n2))\n",
    "pooledSE"
   ]
  },
  {
   "cell_type": "code",
   "execution_count": 35,
   "id": "4597a08c-0c3d-48ab-a880-0fa3df827629",
   "metadata": {},
   "outputs": [],
   "source": [
    "z = round(((p1-p2)-0)/pooledSE, 6)\n",
    "pval = round(2*(1-norm.cdf(abs(z))), 6)"
   ]
  },
  {
   "cell_type": "code",
   "execution_count": 36,
   "id": "992d2ba2-d2e4-4e22-a6a0-7939382eb73f",
   "metadata": {},
   "outputs": [
    {
     "name": "stdout",
     "output_type": "stream",
     "text": [
      "-0.32609 0.744356\n"
     ]
    }
   ],
   "source": [
    "print(z,pval)"
   ]
  }
 ],
 "metadata": {
  "kernelspec": {
   "display_name": "Python 3",
   "language": "python",
   "name": "python3"
  },
  "language_info": {
   "codemirror_mode": {
    "name": "ipython",
    "version": 3
   },
   "file_extension": ".py",
   "mimetype": "text/x-python",
   "name": "python",
   "nbconvert_exporter": "python",
   "pygments_lexer": "ipython3",
   "version": "3.8.8"
  }
 },
 "nbformat": 4,
 "nbformat_minor": 5
}
