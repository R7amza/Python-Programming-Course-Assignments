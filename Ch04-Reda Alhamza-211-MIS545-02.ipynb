{
 "cells": [
  {
   "cell_type": "code",
   "execution_count": 1,
   "id": "c0b6c976-ee43-42e7-8b55-8bdd98d960e9",
   "metadata": {},
   "outputs": [],
   "source": [
    "# Reda Alhamza \n",
    "# ID: 201365390   \n",
    "# MIS 545 - 02\n",
    "# Chapter 4 Assignment "
   ]
  },
  {
   "cell_type": "code",
   "execution_count": 2,
   "id": "57e681af-d966-4c28-8404-3301c60a31af",
   "metadata": {},
   "outputs": [],
   "source": [
    "import pandas as pd"
   ]
  },
  {
   "cell_type": "code",
   "execution_count": 3,
   "id": "a0c2ac94-3967-4eb2-ab9a-c38ab5476b0e",
   "metadata": {},
   "outputs": [],
   "source": [
    "import numpy as np\n",
    "import matplotlib.pyplot as plt"
   ]
  },
  {
   "cell_type": "code",
   "execution_count": 4,
   "id": "b7aa65d1-7cb5-4e37-a37f-52ebdff7e3c8",
   "metadata": {},
   "outputs": [
    {
     "data": {
      "text/html": [
       "<div>\n",
       "<style scoped>\n",
       "    .dataframe tbody tr th:only-of-type {\n",
       "        vertical-align: middle;\n",
       "    }\n",
       "\n",
       "    .dataframe tbody tr th {\n",
       "        vertical-align: top;\n",
       "    }\n",
       "\n",
       "    .dataframe thead th {\n",
       "        text-align: right;\n",
       "    }\n",
       "</style>\n",
       "<table border=\"1\" class=\"dataframe\">\n",
       "  <thead>\n",
       "    <tr style=\"text-align: right;\">\n",
       "      <th></th>\n",
       "      <th>age</th>\n",
       "      <th>job</th>\n",
       "      <th>marital</th>\n",
       "      <th>education</th>\n",
       "      <th>default</th>\n",
       "      <th>housing</th>\n",
       "      <th>loan</th>\n",
       "      <th>contact</th>\n",
       "      <th>month</th>\n",
       "      <th>day_of_week</th>\n",
       "      <th>...</th>\n",
       "      <th>campaign</th>\n",
       "      <th>days_since_previous</th>\n",
       "      <th>previous</th>\n",
       "      <th>previous_outcome</th>\n",
       "      <th>emp.var.rate</th>\n",
       "      <th>cons.price.idx</th>\n",
       "      <th>cons.conf.idx</th>\n",
       "      <th>euribor3m</th>\n",
       "      <th>nr.employed</th>\n",
       "      <th>response</th>\n",
       "    </tr>\n",
       "  </thead>\n",
       "  <tbody>\n",
       "    <tr>\n",
       "      <th>0</th>\n",
       "      <td>56</td>\n",
       "      <td>housemaid</td>\n",
       "      <td>married</td>\n",
       "      <td>basic.4y</td>\n",
       "      <td>no</td>\n",
       "      <td>no</td>\n",
       "      <td>no</td>\n",
       "      <td>telephone</td>\n",
       "      <td>may</td>\n",
       "      <td>mon</td>\n",
       "      <td>...</td>\n",
       "      <td>1</td>\n",
       "      <td>999</td>\n",
       "      <td>0</td>\n",
       "      <td>nonexistent</td>\n",
       "      <td>1.1</td>\n",
       "      <td>93.994</td>\n",
       "      <td>-36.4</td>\n",
       "      <td>4.857</td>\n",
       "      <td>5191</td>\n",
       "      <td>no</td>\n",
       "    </tr>\n",
       "    <tr>\n",
       "      <th>1</th>\n",
       "      <td>57</td>\n",
       "      <td>services</td>\n",
       "      <td>married</td>\n",
       "      <td>high.school</td>\n",
       "      <td>unknown</td>\n",
       "      <td>no</td>\n",
       "      <td>no</td>\n",
       "      <td>telephone</td>\n",
       "      <td>may</td>\n",
       "      <td>mon</td>\n",
       "      <td>...</td>\n",
       "      <td>1</td>\n",
       "      <td>999</td>\n",
       "      <td>0</td>\n",
       "      <td>nonexistent</td>\n",
       "      <td>1.1</td>\n",
       "      <td>93.994</td>\n",
       "      <td>-36.4</td>\n",
       "      <td>4.857</td>\n",
       "      <td>5191</td>\n",
       "      <td>no</td>\n",
       "    </tr>\n",
       "    <tr>\n",
       "      <th>2</th>\n",
       "      <td>41</td>\n",
       "      <td>blue-collar</td>\n",
       "      <td>married</td>\n",
       "      <td>unknown</td>\n",
       "      <td>unknown</td>\n",
       "      <td>no</td>\n",
       "      <td>no</td>\n",
       "      <td>telephone</td>\n",
       "      <td>may</td>\n",
       "      <td>mon</td>\n",
       "      <td>...</td>\n",
       "      <td>1</td>\n",
       "      <td>999</td>\n",
       "      <td>0</td>\n",
       "      <td>nonexistent</td>\n",
       "      <td>1.1</td>\n",
       "      <td>93.994</td>\n",
       "      <td>-36.4</td>\n",
       "      <td>4.857</td>\n",
       "      <td>5191</td>\n",
       "      <td>no</td>\n",
       "    </tr>\n",
       "    <tr>\n",
       "      <th>3</th>\n",
       "      <td>25</td>\n",
       "      <td>services</td>\n",
       "      <td>single</td>\n",
       "      <td>high.school</td>\n",
       "      <td>no</td>\n",
       "      <td>yes</td>\n",
       "      <td>no</td>\n",
       "      <td>telephone</td>\n",
       "      <td>may</td>\n",
       "      <td>mon</td>\n",
       "      <td>...</td>\n",
       "      <td>1</td>\n",
       "      <td>999</td>\n",
       "      <td>0</td>\n",
       "      <td>nonexistent</td>\n",
       "      <td>1.1</td>\n",
       "      <td>93.994</td>\n",
       "      <td>-36.4</td>\n",
       "      <td>4.857</td>\n",
       "      <td>5191</td>\n",
       "      <td>no</td>\n",
       "    </tr>\n",
       "    <tr>\n",
       "      <th>4</th>\n",
       "      <td>29</td>\n",
       "      <td>blue-collar</td>\n",
       "      <td>single</td>\n",
       "      <td>high.school</td>\n",
       "      <td>no</td>\n",
       "      <td>no</td>\n",
       "      <td>yes</td>\n",
       "      <td>telephone</td>\n",
       "      <td>may</td>\n",
       "      <td>mon</td>\n",
       "      <td>...</td>\n",
       "      <td>1</td>\n",
       "      <td>999</td>\n",
       "      <td>0</td>\n",
       "      <td>nonexistent</td>\n",
       "      <td>1.1</td>\n",
       "      <td>93.994</td>\n",
       "      <td>-36.4</td>\n",
       "      <td>4.857</td>\n",
       "      <td>5191</td>\n",
       "      <td>no</td>\n",
       "    </tr>\n",
       "    <tr>\n",
       "      <th>...</th>\n",
       "      <td>...</td>\n",
       "      <td>...</td>\n",
       "      <td>...</td>\n",
       "      <td>...</td>\n",
       "      <td>...</td>\n",
       "      <td>...</td>\n",
       "      <td>...</td>\n",
       "      <td>...</td>\n",
       "      <td>...</td>\n",
       "      <td>...</td>\n",
       "      <td>...</td>\n",
       "      <td>...</td>\n",
       "      <td>...</td>\n",
       "      <td>...</td>\n",
       "      <td>...</td>\n",
       "      <td>...</td>\n",
       "      <td>...</td>\n",
       "      <td>...</td>\n",
       "      <td>...</td>\n",
       "      <td>...</td>\n",
       "      <td>...</td>\n",
       "    </tr>\n",
       "    <tr>\n",
       "      <th>26869</th>\n",
       "      <td>36</td>\n",
       "      <td>admin.</td>\n",
       "      <td>married</td>\n",
       "      <td>university.degree</td>\n",
       "      <td>no</td>\n",
       "      <td>no</td>\n",
       "      <td>no</td>\n",
       "      <td>cellular</td>\n",
       "      <td>nov</td>\n",
       "      <td>fri</td>\n",
       "      <td>...</td>\n",
       "      <td>2</td>\n",
       "      <td>999</td>\n",
       "      <td>0</td>\n",
       "      <td>nonexistent</td>\n",
       "      <td>-1.1</td>\n",
       "      <td>94.767</td>\n",
       "      <td>-50.8</td>\n",
       "      <td>1.028</td>\n",
       "      <td>4963</td>\n",
       "      <td>no</td>\n",
       "    </tr>\n",
       "    <tr>\n",
       "      <th>26870</th>\n",
       "      <td>37</td>\n",
       "      <td>admin.</td>\n",
       "      <td>married</td>\n",
       "      <td>university.degree</td>\n",
       "      <td>no</td>\n",
       "      <td>yes</td>\n",
       "      <td>no</td>\n",
       "      <td>cellular</td>\n",
       "      <td>nov</td>\n",
       "      <td>fri</td>\n",
       "      <td>...</td>\n",
       "      <td>1</td>\n",
       "      <td>999</td>\n",
       "      <td>0</td>\n",
       "      <td>nonexistent</td>\n",
       "      <td>-1.1</td>\n",
       "      <td>94.767</td>\n",
       "      <td>-50.8</td>\n",
       "      <td>1.028</td>\n",
       "      <td>4963</td>\n",
       "      <td>yes</td>\n",
       "    </tr>\n",
       "    <tr>\n",
       "      <th>26871</th>\n",
       "      <td>29</td>\n",
       "      <td>unemployed</td>\n",
       "      <td>single</td>\n",
       "      <td>basic.4y</td>\n",
       "      <td>no</td>\n",
       "      <td>yes</td>\n",
       "      <td>no</td>\n",
       "      <td>cellular</td>\n",
       "      <td>nov</td>\n",
       "      <td>fri</td>\n",
       "      <td>...</td>\n",
       "      <td>1</td>\n",
       "      <td>9</td>\n",
       "      <td>1</td>\n",
       "      <td>success</td>\n",
       "      <td>-1.1</td>\n",
       "      <td>94.767</td>\n",
       "      <td>-50.8</td>\n",
       "      <td>1.028</td>\n",
       "      <td>4963</td>\n",
       "      <td>no</td>\n",
       "    </tr>\n",
       "    <tr>\n",
       "      <th>26872</th>\n",
       "      <td>73</td>\n",
       "      <td>retired</td>\n",
       "      <td>married</td>\n",
       "      <td>professional.course</td>\n",
       "      <td>no</td>\n",
       "      <td>yes</td>\n",
       "      <td>no</td>\n",
       "      <td>cellular</td>\n",
       "      <td>nov</td>\n",
       "      <td>fri</td>\n",
       "      <td>...</td>\n",
       "      <td>1</td>\n",
       "      <td>999</td>\n",
       "      <td>0</td>\n",
       "      <td>nonexistent</td>\n",
       "      <td>-1.1</td>\n",
       "      <td>94.767</td>\n",
       "      <td>-50.8</td>\n",
       "      <td>1.028</td>\n",
       "      <td>4963</td>\n",
       "      <td>yes</td>\n",
       "    </tr>\n",
       "    <tr>\n",
       "      <th>26873</th>\n",
       "      <td>46</td>\n",
       "      <td>blue-collar</td>\n",
       "      <td>married</td>\n",
       "      <td>professional.course</td>\n",
       "      <td>no</td>\n",
       "      <td>no</td>\n",
       "      <td>no</td>\n",
       "      <td>cellular</td>\n",
       "      <td>nov</td>\n",
       "      <td>fri</td>\n",
       "      <td>...</td>\n",
       "      <td>1</td>\n",
       "      <td>999</td>\n",
       "      <td>0</td>\n",
       "      <td>nonexistent</td>\n",
       "      <td>-1.1</td>\n",
       "      <td>94.767</td>\n",
       "      <td>-50.8</td>\n",
       "      <td>1.028</td>\n",
       "      <td>4963</td>\n",
       "      <td>no</td>\n",
       "    </tr>\n",
       "  </tbody>\n",
       "</table>\n",
       "<p>26874 rows × 21 columns</p>\n",
       "</div>"
      ],
      "text/plain": [
       "       age          job  marital            education  default housing loan  \\\n",
       "0       56    housemaid  married             basic.4y       no      no   no   \n",
       "1       57     services  married          high.school  unknown      no   no   \n",
       "2       41  blue-collar  married              unknown  unknown      no   no   \n",
       "3       25     services   single          high.school       no     yes   no   \n",
       "4       29  blue-collar   single          high.school       no      no  yes   \n",
       "...    ...          ...      ...                  ...      ...     ...  ...   \n",
       "26869   36       admin.  married    university.degree       no      no   no   \n",
       "26870   37       admin.  married    university.degree       no     yes   no   \n",
       "26871   29   unemployed   single             basic.4y       no     yes   no   \n",
       "26872   73      retired  married  professional.course       no     yes   no   \n",
       "26873   46  blue-collar  married  professional.course       no      no   no   \n",
       "\n",
       "         contact month day_of_week  ...  campaign  days_since_previous  \\\n",
       "0      telephone   may         mon  ...         1                  999   \n",
       "1      telephone   may         mon  ...         1                  999   \n",
       "2      telephone   may         mon  ...         1                  999   \n",
       "3      telephone   may         mon  ...         1                  999   \n",
       "4      telephone   may         mon  ...         1                  999   \n",
       "...          ...   ...         ...  ...       ...                  ...   \n",
       "26869   cellular   nov         fri  ...         2                  999   \n",
       "26870   cellular   nov         fri  ...         1                  999   \n",
       "26871   cellular   nov         fri  ...         1                    9   \n",
       "26872   cellular   nov         fri  ...         1                  999   \n",
       "26873   cellular   nov         fri  ...         1                  999   \n",
       "\n",
       "       previous  previous_outcome emp.var.rate  cons.price.idx  cons.conf.idx  \\\n",
       "0             0       nonexistent          1.1          93.994          -36.4   \n",
       "1             0       nonexistent          1.1          93.994          -36.4   \n",
       "2             0       nonexistent          1.1          93.994          -36.4   \n",
       "3             0       nonexistent          1.1          93.994          -36.4   \n",
       "4             0       nonexistent          1.1          93.994          -36.4   \n",
       "...         ...               ...          ...             ...            ...   \n",
       "26869         0       nonexistent         -1.1          94.767          -50.8   \n",
       "26870         0       nonexistent         -1.1          94.767          -50.8   \n",
       "26871         1           success         -1.1          94.767          -50.8   \n",
       "26872         0       nonexistent         -1.1          94.767          -50.8   \n",
       "26873         0       nonexistent         -1.1          94.767          -50.8   \n",
       "\n",
       "       euribor3m  nr.employed  response  \n",
       "0          4.857         5191        no  \n",
       "1          4.857         5191        no  \n",
       "2          4.857         5191        no  \n",
       "3          4.857         5191        no  \n",
       "4          4.857         5191        no  \n",
       "...          ...          ...       ...  \n",
       "26869      1.028         4963        no  \n",
       "26870      1.028         4963       yes  \n",
       "26871      1.028         4963        no  \n",
       "26872      1.028         4963       yes  \n",
       "26873      1.028         4963        no  \n",
       "\n",
       "[26874 rows x 21 columns]"
      ]
     },
     "execution_count": 4,
     "metadata": {},
     "output_type": "execute_result"
    }
   ],
   "source": [
    "bank = pd.read_csv(\"D:/DatasetsP/bank_marketing_training\")\n",
    "bank"
   ]
  },
  {
   "cell_type": "code",
   "execution_count": 5,
   "id": "cebf43db-e475-4d22-bc5b-f6e4ce14322b",
   "metadata": {},
   "outputs": [],
   "source": [
    "# Q1: Produce the following graphs. What is the strength of each graph? Weakness?"
   ]
  },
  {
   "cell_type": "code",
   "execution_count": 6,
   "id": "f16fe70a-c7a4-47c0-89fb-8daf9a66cba8",
   "metadata": {},
   "outputs": [],
   "source": [
    "# a. Bar graph of marital."
   ]
  },
  {
   "cell_type": "code",
   "execution_count": 7,
   "id": "3e46900f-dd88-420b-91bf-24793a231bf0",
   "metadata": {},
   "outputs": [
    {
     "data": {
      "text/plain": [
       "<AxesSubplot:>"
      ]
     },
     "execution_count": 7,
     "metadata": {},
     "output_type": "execute_result"
    },
    {
     "data": {
      "image/png": "[encoded data removed]",
      "text/plain": [
       "<Figure size 432x288 with 1 Axes>"
      ]
     },
     "metadata": {
      "needs_background": "light"
     },
     "output_type": "display_data"
    }
   ],
   "source": [
    "bank['marital'].value_counts().plot(kind = 'bar') \n",
    "\n",
    "# Strenghth: Showing distribution of marital variables and how many records there.\n",
    "# Weekness: can't see the proportions of the 4 categories to the total or as percentage."
   ]
  },
  {
   "cell_type": "code",
   "execution_count": 8,
   "id": "861d5425-28b5-4505-b7c9-7430cb1a5819",
   "metadata": {},
   "outputs": [],
   "source": [
    "# b. Bar graph of marital, with overlay of response."
   ]
  },
  {
   "cell_type": "code",
   "execution_count": 9,
   "id": "6b2a6732-b868-49a6-8daa-5cddf0bbf9df",
   "metadata": {},
   "outputs": [
    {
     "data": {
      "text/html": [
       "<div>\n",
       "<style scoped>\n",
       "    .dataframe tbody tr th:only-of-type {\n",
       "        vertical-align: middle;\n",
       "    }\n",
       "\n",
       "    .dataframe tbody tr th {\n",
       "        vertical-align: top;\n",
       "    }\n",
       "\n",
       "    .dataframe thead th {\n",
       "        text-align: right;\n",
       "    }\n",
       "</style>\n",
       "<table border=\"1\" class=\"dataframe\">\n",
       "  <thead>\n",
       "    <tr style=\"text-align: right;\">\n",
       "      <th>response</th>\n",
       "      <th>no</th>\n",
       "      <th>yes</th>\n",
       "    </tr>\n",
       "    <tr>\n",
       "      <th>marital</th>\n",
       "      <th></th>\n",
       "      <th></th>\n",
       "    </tr>\n",
       "  </thead>\n",
       "  <tbody>\n",
       "    <tr>\n",
       "      <th>divorced</th>\n",
       "      <td>2743</td>\n",
       "      <td>312</td>\n",
       "    </tr>\n",
       "    <tr>\n",
       "      <th>married</th>\n",
       "      <td>14579</td>\n",
       "      <td>1608</td>\n",
       "    </tr>\n",
       "    <tr>\n",
       "      <th>single</th>\n",
       "      <td>6514</td>\n",
       "      <td>1061</td>\n",
       "    </tr>\n",
       "    <tr>\n",
       "      <th>unknown</th>\n",
       "      <td>50</td>\n",
       "      <td>7</td>\n",
       "    </tr>\n",
       "  </tbody>\n",
       "</table>\n",
       "</div>"
      ],
      "text/plain": [
       "response     no   yes\n",
       "marital              \n",
       "divorced   2743   312\n",
       "married   14579  1608\n",
       "single     6514  1061\n",
       "unknown      50     7"
      ]
     },
     "execution_count": 9,
     "metadata": {},
     "output_type": "execute_result"
    }
   ],
   "source": [
    "crosstab01 = pd.crosstab(bank['marital'],bank['response'])\n",
    "crosstab01"
   ]
  },
  {
   "cell_type": "code",
   "execution_count": 10,
   "id": "828e9da6-ab24-4419-8de2-0536d7e80883",
   "metadata": {},
   "outputs": [
    {
     "data": {
      "text/plain": [
       "<AxesSubplot:xlabel='marital'>"
      ]
     },
     "execution_count": 10,
     "metadata": {},
     "output_type": "execute_result"
    },
    {
     "data": {
      "image/png": "[encoded data removed]",
      "text/plain": [
       "<Figure size 432x288 with 1 Axes>"
      ]
     },
     "metadata": {
      "needs_background": "light"
     },
     "output_type": "display_data"
    }
   ],
   "source": [
    "crosstab01.plot(kind = 'bar', stacked = True)\n",
    "# Strenghth: Show distribution and number of records.\n",
    "# Weekness: unable to see response proportion in each marital status."
   ]
  },
  {
   "cell_type": "code",
   "execution_count": 11,
   "id": "184181e2-b5f4-47e4-8133-039bf8949c7a",
   "metadata": {},
   "outputs": [],
   "source": [
    "# c. Normalized bar graph of marital, with overlay of response."
   ]
  },
  {
   "cell_type": "code",
   "execution_count": 12,
   "id": "b9b0abb3-3033-47d0-bc47-d98667eb791a",
   "metadata": {},
   "outputs": [
    {
     "data": {
      "text/html": [
       "<div>\n",
       "<style scoped>\n",
       "    .dataframe tbody tr th:only-of-type {\n",
       "        vertical-align: middle;\n",
       "    }\n",
       "\n",
       "    .dataframe tbody tr th {\n",
       "        vertical-align: top;\n",
       "    }\n",
       "\n",
       "    .dataframe thead th {\n",
       "        text-align: right;\n",
       "    }\n",
       "</style>\n",
       "<table border=\"1\" class=\"dataframe\">\n",
       "  <thead>\n",
       "    <tr style=\"text-align: right;\">\n",
       "      <th>response</th>\n",
       "      <th>no</th>\n",
       "      <th>yes</th>\n",
       "    </tr>\n",
       "    <tr>\n",
       "      <th>marital</th>\n",
       "      <th></th>\n",
       "      <th></th>\n",
       "    </tr>\n",
       "  </thead>\n",
       "  <tbody>\n",
       "    <tr>\n",
       "      <th>divorced</th>\n",
       "      <td>0.897872</td>\n",
       "      <td>0.102128</td>\n",
       "    </tr>\n",
       "    <tr>\n",
       "      <th>married</th>\n",
       "      <td>0.900661</td>\n",
       "      <td>0.099339</td>\n",
       "    </tr>\n",
       "    <tr>\n",
       "      <th>single</th>\n",
       "      <td>0.859934</td>\n",
       "      <td>0.140066</td>\n",
       "    </tr>\n",
       "    <tr>\n",
       "      <th>unknown</th>\n",
       "      <td>0.877193</td>\n",
       "      <td>0.122807</td>\n",
       "    </tr>\n",
       "  </tbody>\n",
       "</table>\n",
       "</div>"
      ],
      "text/plain": [
       "response        no       yes\n",
       "marital                     \n",
       "divorced  0.897872  0.102128\n",
       "married   0.900661  0.099339\n",
       "single    0.859934  0.140066\n",
       "unknown   0.877193  0.122807"
      ]
     },
     "execution_count": 12,
     "metadata": {},
     "output_type": "execute_result"
    }
   ],
   "source": [
    "norm_ct01 = crosstab01.div(crosstab01.sum(1), axis = 0)\n",
    "norm_ct01"
   ]
  },
  {
   "cell_type": "code",
   "execution_count": 13,
   "id": "01fba97e-9e28-435c-8fbf-90b717b6d0e2",
   "metadata": {},
   "outputs": [
    {
     "data": {
      "text/plain": [
       "<AxesSubplot:xlabel='marital'>"
      ]
     },
     "execution_count": 13,
     "metadata": {},
     "output_type": "execute_result"
    },
    {
     "data": {
      "image/png": "[encoded data removed]",
      "text/plain": [
       "<Figure size 432x288 with 1 Axes>"
      ]
     },
     "metadata": {
      "needs_background": "light"
     },
     "output_type": "display_data"
    }
   ],
   "source": [
    "norm_ct01.plot(kind = 'bar', stacked = True)\n",
    "\n",
    "# Strenghth: indicates the proportion in each marital status.\n",
    "# Weekness: the original distribution can't be known from the normalized bar graph and number of records."
   ]
  },
  {
   "cell_type": "code",
   "execution_count": 14,
   "id": "5158078f-9939-4811-9314-67c8550ea23a",
   "metadata": {},
   "outputs": [],
   "source": [
    "# Q2: Produce the following graphs. What is the strength of each graph? Weakness?"
   ]
  },
  {
   "cell_type": "code",
   "execution_count": 15,
   "id": "041f9102-e3ac-4603-8e57-919062dea919",
   "metadata": {},
   "outputs": [],
   "source": [
    "# a. Histogram of duration."
   ]
  },
  {
   "cell_type": "code",
   "execution_count": 16,
   "id": "512f024b-ec20-4b6c-b6ff-90f5bb5ab5c7",
   "metadata": {},
   "outputs": [
    {
     "data": {
      "image/png": "[encoded data removed]",
      "text/plain": [
       "<Figure size 432x288 with 1 Axes>"
      ]
     },
     "metadata": {
      "needs_background": "light"
     },
     "output_type": "display_data"
    }
   ],
   "source": [
    "bank_hist = bank['duration'].plot(kind = 'hist')\n",
    "\n",
    "# Strenghth: able to see distrubtion and determine its shape.\n",
    "# Weekness: not able to see proprtions of the duration to the total duration."
   ]
  },
  {
   "cell_type": "code",
   "execution_count": 17,
   "id": "c0ed9011-1646-43fc-a824-c8a9086712e2",
   "metadata": {},
   "outputs": [],
   "source": [
    "# b. Histogram of duration, with overlay of response."
   ]
  },
  {
   "cell_type": "code",
   "execution_count": 18,
   "id": "60edc5ce-f75d-4a87-9490-d2c43f282492",
   "metadata": {},
   "outputs": [
    {
     "data": {
      "text/html": [
       "<div>\n",
       "<style scoped>\n",
       "    .dataframe tbody tr th:only-of-type {\n",
       "        vertical-align: middle;\n",
       "    }\n",
       "\n",
       "    .dataframe tbody tr th {\n",
       "        vertical-align: top;\n",
       "    }\n",
       "\n",
       "    .dataframe thead th {\n",
       "        text-align: right;\n",
       "    }\n",
       "</style>\n",
       "<table border=\"1\" class=\"dataframe\">\n",
       "  <thead>\n",
       "    <tr style=\"text-align: right;\">\n",
       "      <th>response</th>\n",
       "      <th>no</th>\n",
       "      <th>yes</th>\n",
       "    </tr>\n",
       "    <tr>\n",
       "      <th>duration</th>\n",
       "      <th></th>\n",
       "      <th></th>\n",
       "    </tr>\n",
       "  </thead>\n",
       "  <tbody>\n",
       "    <tr>\n",
       "      <th>0</th>\n",
       "      <td>2</td>\n",
       "      <td>0</td>\n",
       "    </tr>\n",
       "    <tr>\n",
       "      <th>1</th>\n",
       "      <td>2</td>\n",
       "      <td>0</td>\n",
       "    </tr>\n",
       "    <tr>\n",
       "      <th>2</th>\n",
       "      <td>1</td>\n",
       "      <td>0</td>\n",
       "    </tr>\n",
       "    <tr>\n",
       "      <th>3</th>\n",
       "      <td>3</td>\n",
       "      <td>0</td>\n",
       "    </tr>\n",
       "    <tr>\n",
       "      <th>4</th>\n",
       "      <td>5</td>\n",
       "      <td>0</td>\n",
       "    </tr>\n",
       "    <tr>\n",
       "      <th>...</th>\n",
       "      <td>...</td>\n",
       "      <td>...</td>\n",
       "    </tr>\n",
       "    <tr>\n",
       "      <th>3631</th>\n",
       "      <td>0</td>\n",
       "      <td>1</td>\n",
       "    </tr>\n",
       "    <tr>\n",
       "      <th>3643</th>\n",
       "      <td>0</td>\n",
       "      <td>1</td>\n",
       "    </tr>\n",
       "    <tr>\n",
       "      <th>3785</th>\n",
       "      <td>1</td>\n",
       "      <td>0</td>\n",
       "    </tr>\n",
       "    <tr>\n",
       "      <th>4199</th>\n",
       "      <td>0</td>\n",
       "      <td>1</td>\n",
       "    </tr>\n",
       "    <tr>\n",
       "      <th>4918</th>\n",
       "      <td>1</td>\n",
       "      <td>0</td>\n",
       "    </tr>\n",
       "  </tbody>\n",
       "</table>\n",
       "<p>1390 rows × 2 columns</p>\n",
       "</div>"
      ],
      "text/plain": [
       "response  no  yes\n",
       "duration         \n",
       "0          2    0\n",
       "1          2    0\n",
       "2          1    0\n",
       "3          3    0\n",
       "4          5    0\n",
       "...       ..  ...\n",
       "3631       0    1\n",
       "3643       0    1\n",
       "3785       1    0\n",
       "4199       0    1\n",
       "4918       1    0\n",
       "\n",
       "[1390 rows x 2 columns]"
      ]
     },
     "execution_count": 18,
     "metadata": {},
     "output_type": "execute_result"
    }
   ],
   "source": [
    "crosstab02 = pd.crosstab(bank['duration'], bank['response'])\n",
    "crosstab02"
   ]
  },
  {
   "cell_type": "code",
   "execution_count": 19,
   "id": "be0534f4-5a4a-4ec4-8964-c63f7849a1d6",
   "metadata": {},
   "outputs": [
    {
     "data": {
      "text/plain": [
       "<AxesSubplot:ylabel='Frequency'>"
      ]
     },
     "execution_count": 19,
     "metadata": {},
     "output_type": "execute_result"
    },
    {
     "data": {
      "image/png": "[encoded data removed]",
      "text/plain": [
       "<Figure size 432x288 with 1 Axes>"
      ]
     },
     "metadata": {
      "needs_background": "light"
     },
     "output_type": "display_data"
    }
   ],
   "source": [
    "crosstab02.plot(kind = 'hist', stacked = True)\n",
    "\n",
    "# Strenghth: Shows data distribution.\n",
    "# Weekness: can't distinguish proportion patterns."
   ]
  },
  {
   "cell_type": "code",
   "execution_count": 20,
   "id": "e62eb133-ed05-4108-aee2-acbf931c232e",
   "metadata": {},
   "outputs": [],
   "source": [
    "# c. Normalized histogram of duration, with overlay of response."
   ]
  },
  {
   "cell_type": "code",
   "execution_count": 21,
   "id": "c246d71c-aaa5-4c1b-bd2e-2eb0da1f376f",
   "metadata": {},
   "outputs": [],
   "source": [
    "duration_yes = bank[bank.response == \"yes\"]['duration']\n",
    "duration_no = bank[bank.response == \"no\"]['duration']"
   ]
  },
  {
   "cell_type": "code",
   "execution_count": 22,
   "id": "8724ce4b-4711-4f53-8848-5cbff4caad52",
   "metadata": {},
   "outputs": [
    {
     "data": {
      "image/png": "[encoded data removed]",
      "text/plain": [
       "<Figure size 432x288 with 1 Axes>"
      ]
     },
     "metadata": {
      "needs_background": "light"
     },
     "output_type": "display_data"
    }
   ],
   "source": [
    "plt.hist([duration_yes,duration_no], stacked = True)\n",
    "plt.legend(['Response = Yes', 'Response = No'])\n",
    "plt.title('Histogram of Duration with Response Overlay')\n",
    "plt.xlabel('Duration'); plt.ylabel('Frequency'); plt.show()"
   ]
  },
  {
   "cell_type": "code",
   "execution_count": 23,
   "id": "caeceef4-de57-4d6c-ad19-e69c24344c39",
   "metadata": {},
   "outputs": [
    {
     "data": {
      "image/png": "[encoded data removed]",
      "text/plain": [
       "<Figure size 432x288 with 1 Axes>"
      ]
     },
     "metadata": {
      "needs_background": "light"
     },
     "output_type": "display_data"
    }
   ],
   "source": [
    "(n , bins, patches) = plt.hist([duration_yes,duration_no], bins= 10, stacked = True)\n",
    "n_table = np.column_stack ((n[0], n[1]))\n",
    "n_norm = n_table / n_table.sum (axis=1)[:, None]\n",
    "ourbins = np.column_stack ((bins[0:10], bins[1:11]))"
   ]
  },
  {
   "cell_type": "code",
   "execution_count": 24,
   "id": "dde800d2-9998-4c07-9260-9cb9535a33c2",
   "metadata": {},
   "outputs": [
    {
     "data": {
      "image/png": "[encoded data removed]",
      "text/plain": [
       "<Figure size 432x288 with 1 Axes>"
      ]
     },
     "metadata": {
      "needs_background": "light"
     },
     "output_type": "display_data"
    }
   ],
   "source": [
    "p1 = plt.bar (x = ourbins [:,0], height = n_norm [:,0], width = ourbins [:, 1] - ourbins [:,0])\n",
    "p2 = plt.bar (x = ourbins [:,0], height = n_norm [:,1], width = ourbins [:, 1] - ourbins [:, 0], bottom = n_norm [:,0])\n",
    "plt.legend(['Response = Yes', 'Response =No'])\n",
    "plt.title('Normalized Histogram of Duration with Response Overlay')\n",
    "plt.xlabel('Duration'); plt.ylabel ('Proportion'); plt.show()\n",
    "\n",
    "# Strenghth: can distinguish proportion patterns\n",
    "# Weekness: can't know total number of records nor the data distribution."
   ]
  },
  {
   "cell_type": "code",
   "execution_count": 25,
   "id": "50ce46d3-5c08-405d-b828-be82ba53945d",
   "metadata": {},
   "outputs": [],
   "source": [
    "# Q3: Construct a contingency table of job with response, with counts and column percentages.\n"
   ]
  },
  {
   "cell_type": "code",
   "execution_count": 26,
   "id": "768e34d4-874d-4da7-8363-7137f536036b",
   "metadata": {},
   "outputs": [
    {
     "data": {
      "text/html": [
       "<div>\n",
       "<style scoped>\n",
       "    .dataframe tbody tr th:only-of-type {\n",
       "        vertical-align: middle;\n",
       "    }\n",
       "\n",
       "    .dataframe tbody tr th {\n",
       "        vertical-align: top;\n",
       "    }\n",
       "\n",
       "    .dataframe thead th {\n",
       "        text-align: right;\n",
       "    }\n",
       "</style>\n",
       "<table border=\"1\" class=\"dataframe\">\n",
       "  <thead>\n",
       "    <tr style=\"text-align: right;\">\n",
       "      <th>job</th>\n",
       "      <th>admin.</th>\n",
       "      <th>blue-collar</th>\n",
       "      <th>entrepreneur</th>\n",
       "      <th>housemaid</th>\n",
       "      <th>management</th>\n",
       "      <th>retired</th>\n",
       "      <th>self-employed</th>\n",
       "      <th>services</th>\n",
       "      <th>student</th>\n",
       "      <th>technician</th>\n",
       "      <th>unemployed</th>\n",
       "      <th>unknown</th>\n",
       "    </tr>\n",
       "    <tr>\n",
       "      <th>response</th>\n",
       "      <th></th>\n",
       "      <th></th>\n",
       "      <th></th>\n",
       "      <th></th>\n",
       "      <th></th>\n",
       "      <th></th>\n",
       "      <th></th>\n",
       "      <th></th>\n",
       "      <th></th>\n",
       "      <th></th>\n",
       "      <th></th>\n",
       "      <th></th>\n",
       "    </tr>\n",
       "  </thead>\n",
       "  <tbody>\n",
       "    <tr>\n",
       "      <th>no</th>\n",
       "      <td>5903</td>\n",
       "      <td>5631</td>\n",
       "      <td>842</td>\n",
       "      <td>639</td>\n",
       "      <td>1680</td>\n",
       "      <td>852</td>\n",
       "      <td>825</td>\n",
       "      <td>2380</td>\n",
       "      <td>404</td>\n",
       "      <td>3972</td>\n",
       "      <td>573</td>\n",
       "      <td>185</td>\n",
       "    </tr>\n",
       "    <tr>\n",
       "      <th>yes</th>\n",
       "      <td>854</td>\n",
       "      <td>420</td>\n",
       "      <td>72</td>\n",
       "      <td>70</td>\n",
       "      <td>209</td>\n",
       "      <td>291</td>\n",
       "      <td>93</td>\n",
       "      <td>201</td>\n",
       "      <td>194</td>\n",
       "      <td>465</td>\n",
       "      <td>94</td>\n",
       "      <td>25</td>\n",
       "    </tr>\n",
       "  </tbody>\n",
       "</table>\n",
       "</div>"
      ],
      "text/plain": [
       "job       admin.  blue-collar  entrepreneur  housemaid  management  retired  \\\n",
       "response                                                                      \n",
       "no          5903         5631           842        639        1680      852   \n",
       "yes          854          420            72         70         209      291   \n",
       "\n",
       "job       self-employed  services  student  technician  unemployed  unknown  \n",
       "response                                                                     \n",
       "no                  825      2380      404        3972         573      185  \n",
       "yes                  93       201      194         465          94       25  "
      ]
     },
     "execution_count": 26,
     "metadata": {},
     "output_type": "execute_result"
    }
   ],
   "source": [
    "crosstab03 = pd.crosstab(bank['response'],bank['job']) # with counts\n",
    "crosstab03    "
   ]
  },
  {
   "cell_type": "code",
   "execution_count": 27,
   "id": "77536b37-d71c-44a5-ad75-e59fcdaa7c21",
   "metadata": {},
   "outputs": [
    {
     "data": {
      "text/html": [
       "<div>\n",
       "<style scoped>\n",
       "    .dataframe tbody tr th:only-of-type {\n",
       "        vertical-align: middle;\n",
       "    }\n",
       "\n",
       "    .dataframe tbody tr th {\n",
       "        vertical-align: top;\n",
       "    }\n",
       "\n",
       "    .dataframe thead th {\n",
       "        text-align: right;\n",
       "    }\n",
       "</style>\n",
       "<table border=\"1\" class=\"dataframe\">\n",
       "  <thead>\n",
       "    <tr style=\"text-align: right;\">\n",
       "      <th>job</th>\n",
       "      <th>admin.</th>\n",
       "      <th>blue-collar</th>\n",
       "      <th>entrepreneur</th>\n",
       "      <th>housemaid</th>\n",
       "      <th>management</th>\n",
       "      <th>retired</th>\n",
       "      <th>self-employed</th>\n",
       "      <th>services</th>\n",
       "      <th>student</th>\n",
       "      <th>technician</th>\n",
       "      <th>unemployed</th>\n",
       "      <th>unknown</th>\n",
       "    </tr>\n",
       "    <tr>\n",
       "      <th>response</th>\n",
       "      <th></th>\n",
       "      <th></th>\n",
       "      <th></th>\n",
       "      <th></th>\n",
       "      <th></th>\n",
       "      <th></th>\n",
       "      <th></th>\n",
       "      <th></th>\n",
       "      <th></th>\n",
       "      <th></th>\n",
       "      <th></th>\n",
       "      <th></th>\n",
       "    </tr>\n",
       "  </thead>\n",
       "  <tbody>\n",
       "    <tr>\n",
       "      <th>no</th>\n",
       "      <td>87.36</td>\n",
       "      <td>93.06</td>\n",
       "      <td>92.12</td>\n",
       "      <td>90.13</td>\n",
       "      <td>88.94</td>\n",
       "      <td>74.54</td>\n",
       "      <td>89.87</td>\n",
       "      <td>92.21</td>\n",
       "      <td>67.56</td>\n",
       "      <td>89.52</td>\n",
       "      <td>85.91</td>\n",
       "      <td>88.1</td>\n",
       "    </tr>\n",
       "    <tr>\n",
       "      <th>yes</th>\n",
       "      <td>12.64</td>\n",
       "      <td>6.94</td>\n",
       "      <td>7.88</td>\n",
       "      <td>9.87</td>\n",
       "      <td>11.06</td>\n",
       "      <td>25.46</td>\n",
       "      <td>10.13</td>\n",
       "      <td>7.79</td>\n",
       "      <td>32.44</td>\n",
       "      <td>10.48</td>\n",
       "      <td>14.09</td>\n",
       "      <td>11.9</td>\n",
       "    </tr>\n",
       "  </tbody>\n",
       "</table>\n",
       "</div>"
      ],
      "text/plain": [
       "job       admin.  blue-collar  entrepreneur  housemaid  management  retired  \\\n",
       "response                                                                      \n",
       "no         87.36        93.06         92.12      90.13       88.94    74.54   \n",
       "yes        12.64         6.94          7.88       9.87       11.06    25.46   \n",
       "\n",
       "job       self-employed  services  student  technician  unemployed  unknown  \n",
       "response                                                                     \n",
       "no                89.87     92.21    67.56       89.52       85.91     88.1  \n",
       "yes               10.13      7.79    32.44       10.48       14.09     11.9  "
      ]
     },
     "execution_count": 27,
     "metadata": {},
     "output_type": "execute_result"
    }
   ],
   "source": [
    "norm_ct03 = round(crosstab03.div(crosstab03.sum(0),axis=1)*100,2) # column with percentages\n",
    "norm_ct03"
   ]
  },
  {
   "cell_type": "code",
   "execution_count": 28,
   "id": "69b89912-4908-409f-abe0-6d38391e70b9",
   "metadata": {},
   "outputs": [],
   "source": [
    "# Q4: Referring to the previous exercise, do the following:"
   ]
  },
  {
   "cell_type": "code",
   "execution_count": 29,
   "id": "5d40cfee-3a52-4300-b699-5a406975cc7e",
   "metadata": {},
   "outputs": [],
   "source": [
    "# a. Combine the job categories according to the following response percentages: \n",
    "# 0 < 10, 10 < 25, 25 < 33. Name the new variable job2."
   ]
  },
  {
   "cell_type": "code",
   "execution_count": 30,
   "id": "71561175-9afc-41ed-999c-2235faf1325f",
   "metadata": {},
   "outputs": [],
   "source": [
    "bank['job2'] = bank['job']"
   ]
  },
  {
   "cell_type": "code",
   "execution_count": 31,
   "id": "c123f306-4d14-4f7d-a9ba-f6ff35c931ec",
   "metadata": {},
   "outputs": [],
   "source": [
    "# Job codes for yes response percentages within the specified ranges: \n",
    "\n",
    "dict_job2 = {\"job2\":{\"admin.\":\"10 < 25\",\n",
    "                   \"blue-collar\":\"0 < 10\",\n",
    "                   \"entrepreneur\":\"0 < 10\",\n",
    "                   \"housemaid\":\"0 < 10\",\n",
    "                   \"management\":\"10 < 25\",\n",
    "                   \"retired\":\"25 < 33\",\n",
    "                   \"self-employed\":\"10 < 25\",\n",
    "                   \"services\":\"0 < 10\",\n",
    "                   \"student\":\"25 < 33\",\n",
    "                   \"technician\":\"10 < 25\",\n",
    "                   \"unemployed\":\"10 < 25\",\n",
    "                   \"unknown\":\"10 < 25\"}}"
   ]
  },
  {
   "cell_type": "code",
   "execution_count": 32,
   "id": "e652b3cd-8e1b-48d2-93ab-a70b5b858ad0",
   "metadata": {},
   "outputs": [
    {
     "data": {
      "text/html": [
       "<div>\n",
       "<style scoped>\n",
       "    .dataframe tbody tr th:only-of-type {\n",
       "        vertical-align: middle;\n",
       "    }\n",
       "\n",
       "    .dataframe tbody tr th {\n",
       "        vertical-align: top;\n",
       "    }\n",
       "\n",
       "    .dataframe thead th {\n",
       "        text-align: right;\n",
       "    }\n",
       "</style>\n",
       "<table border=\"1\" class=\"dataframe\">\n",
       "  <thead>\n",
       "    <tr style=\"text-align: right;\">\n",
       "      <th></th>\n",
       "      <th>age</th>\n",
       "      <th>job</th>\n",
       "      <th>marital</th>\n",
       "      <th>education</th>\n",
       "      <th>default</th>\n",
       "      <th>housing</th>\n",
       "      <th>loan</th>\n",
       "      <th>contact</th>\n",
       "      <th>month</th>\n",
       "      <th>day_of_week</th>\n",
       "      <th>...</th>\n",
       "      <th>days_since_previous</th>\n",
       "      <th>previous</th>\n",
       "      <th>previous_outcome</th>\n",
       "      <th>emp.var.rate</th>\n",
       "      <th>cons.price.idx</th>\n",
       "      <th>cons.conf.idx</th>\n",
       "      <th>euribor3m</th>\n",
       "      <th>nr.employed</th>\n",
       "      <th>response</th>\n",
       "      <th>job2</th>\n",
       "    </tr>\n",
       "  </thead>\n",
       "  <tbody>\n",
       "    <tr>\n",
       "      <th>0</th>\n",
       "      <td>56</td>\n",
       "      <td>housemaid</td>\n",
       "      <td>married</td>\n",
       "      <td>basic.4y</td>\n",
       "      <td>no</td>\n",
       "      <td>no</td>\n",
       "      <td>no</td>\n",
       "      <td>telephone</td>\n",
       "      <td>may</td>\n",
       "      <td>mon</td>\n",
       "      <td>...</td>\n",
       "      <td>999</td>\n",
       "      <td>0</td>\n",
       "      <td>nonexistent</td>\n",
       "      <td>1.1</td>\n",
       "      <td>93.994</td>\n",
       "      <td>-36.4</td>\n",
       "      <td>4.857</td>\n",
       "      <td>5191</td>\n",
       "      <td>no</td>\n",
       "      <td>0 &lt; 10</td>\n",
       "    </tr>\n",
       "    <tr>\n",
       "      <th>1</th>\n",
       "      <td>57</td>\n",
       "      <td>services</td>\n",
       "      <td>married</td>\n",
       "      <td>high.school</td>\n",
       "      <td>unknown</td>\n",
       "      <td>no</td>\n",
       "      <td>no</td>\n",
       "      <td>telephone</td>\n",
       "      <td>may</td>\n",
       "      <td>mon</td>\n",
       "      <td>...</td>\n",
       "      <td>999</td>\n",
       "      <td>0</td>\n",
       "      <td>nonexistent</td>\n",
       "      <td>1.1</td>\n",
       "      <td>93.994</td>\n",
       "      <td>-36.4</td>\n",
       "      <td>4.857</td>\n",
       "      <td>5191</td>\n",
       "      <td>no</td>\n",
       "      <td>0 &lt; 10</td>\n",
       "    </tr>\n",
       "    <tr>\n",
       "      <th>2</th>\n",
       "      <td>41</td>\n",
       "      <td>blue-collar</td>\n",
       "      <td>married</td>\n",
       "      <td>unknown</td>\n",
       "      <td>unknown</td>\n",
       "      <td>no</td>\n",
       "      <td>no</td>\n",
       "      <td>telephone</td>\n",
       "      <td>may</td>\n",
       "      <td>mon</td>\n",
       "      <td>...</td>\n",
       "      <td>999</td>\n",
       "      <td>0</td>\n",
       "      <td>nonexistent</td>\n",
       "      <td>1.1</td>\n",
       "      <td>93.994</td>\n",
       "      <td>-36.4</td>\n",
       "      <td>4.857</td>\n",
       "      <td>5191</td>\n",
       "      <td>no</td>\n",
       "      <td>0 &lt; 10</td>\n",
       "    </tr>\n",
       "    <tr>\n",
       "      <th>3</th>\n",
       "      <td>25</td>\n",
       "      <td>services</td>\n",
       "      <td>single</td>\n",
       "      <td>high.school</td>\n",
       "      <td>no</td>\n",
       "      <td>yes</td>\n",
       "      <td>no</td>\n",
       "      <td>telephone</td>\n",
       "      <td>may</td>\n",
       "      <td>mon</td>\n",
       "      <td>...</td>\n",
       "      <td>999</td>\n",
       "      <td>0</td>\n",
       "      <td>nonexistent</td>\n",
       "      <td>1.1</td>\n",
       "      <td>93.994</td>\n",
       "      <td>-36.4</td>\n",
       "      <td>4.857</td>\n",
       "      <td>5191</td>\n",
       "      <td>no</td>\n",
       "      <td>0 &lt; 10</td>\n",
       "    </tr>\n",
       "    <tr>\n",
       "      <th>4</th>\n",
       "      <td>29</td>\n",
       "      <td>blue-collar</td>\n",
       "      <td>single</td>\n",
       "      <td>high.school</td>\n",
       "      <td>no</td>\n",
       "      <td>no</td>\n",
       "      <td>yes</td>\n",
       "      <td>telephone</td>\n",
       "      <td>may</td>\n",
       "      <td>mon</td>\n",
       "      <td>...</td>\n",
       "      <td>999</td>\n",
       "      <td>0</td>\n",
       "      <td>nonexistent</td>\n",
       "      <td>1.1</td>\n",
       "      <td>93.994</td>\n",
       "      <td>-36.4</td>\n",
       "      <td>4.857</td>\n",
       "      <td>5191</td>\n",
       "      <td>no</td>\n",
       "      <td>0 &lt; 10</td>\n",
       "    </tr>\n",
       "    <tr>\n",
       "      <th>...</th>\n",
       "      <td>...</td>\n",
       "      <td>...</td>\n",
       "      <td>...</td>\n",
       "      <td>...</td>\n",
       "      <td>...</td>\n",
       "      <td>...</td>\n",
       "      <td>...</td>\n",
       "      <td>...</td>\n",
       "      <td>...</td>\n",
       "      <td>...</td>\n",
       "      <td>...</td>\n",
       "      <td>...</td>\n",
       "      <td>...</td>\n",
       "      <td>...</td>\n",
       "      <td>...</td>\n",
       "      <td>...</td>\n",
       "      <td>...</td>\n",
       "      <td>...</td>\n",
       "      <td>...</td>\n",
       "      <td>...</td>\n",
       "      <td>...</td>\n",
       "    </tr>\n",
       "    <tr>\n",
       "      <th>26869</th>\n",
       "      <td>36</td>\n",
       "      <td>admin.</td>\n",
       "      <td>married</td>\n",
       "      <td>university.degree</td>\n",
       "      <td>no</td>\n",
       "      <td>no</td>\n",
       "      <td>no</td>\n",
       "      <td>cellular</td>\n",
       "      <td>nov</td>\n",
       "      <td>fri</td>\n",
       "      <td>...</td>\n",
       "      <td>999</td>\n",
       "      <td>0</td>\n",
       "      <td>nonexistent</td>\n",
       "      <td>-1.1</td>\n",
       "      <td>94.767</td>\n",
       "      <td>-50.8</td>\n",
       "      <td>1.028</td>\n",
       "      <td>4963</td>\n",
       "      <td>no</td>\n",
       "      <td>10 &lt; 25</td>\n",
       "    </tr>\n",
       "    <tr>\n",
       "      <th>26870</th>\n",
       "      <td>37</td>\n",
       "      <td>admin.</td>\n",
       "      <td>married</td>\n",
       "      <td>university.degree</td>\n",
       "      <td>no</td>\n",
       "      <td>yes</td>\n",
       "      <td>no</td>\n",
       "      <td>cellular</td>\n",
       "      <td>nov</td>\n",
       "      <td>fri</td>\n",
       "      <td>...</td>\n",
       "      <td>999</td>\n",
       "      <td>0</td>\n",
       "      <td>nonexistent</td>\n",
       "      <td>-1.1</td>\n",
       "      <td>94.767</td>\n",
       "      <td>-50.8</td>\n",
       "      <td>1.028</td>\n",
       "      <td>4963</td>\n",
       "      <td>yes</td>\n",
       "      <td>10 &lt; 25</td>\n",
       "    </tr>\n",
       "    <tr>\n",
       "      <th>26871</th>\n",
       "      <td>29</td>\n",
       "      <td>unemployed</td>\n",
       "      <td>single</td>\n",
       "      <td>basic.4y</td>\n",
       "      <td>no</td>\n",
       "      <td>yes</td>\n",
       "      <td>no</td>\n",
       "      <td>cellular</td>\n",
       "      <td>nov</td>\n",
       "      <td>fri</td>\n",
       "      <td>...</td>\n",
       "      <td>9</td>\n",
       "      <td>1</td>\n",
       "      <td>success</td>\n",
       "      <td>-1.1</td>\n",
       "      <td>94.767</td>\n",
       "      <td>-50.8</td>\n",
       "      <td>1.028</td>\n",
       "      <td>4963</td>\n",
       "      <td>no</td>\n",
       "      <td>10 &lt; 25</td>\n",
       "    </tr>\n",
       "    <tr>\n",
       "      <th>26872</th>\n",
       "      <td>73</td>\n",
       "      <td>retired</td>\n",
       "      <td>married</td>\n",
       "      <td>professional.course</td>\n",
       "      <td>no</td>\n",
       "      <td>yes</td>\n",
       "      <td>no</td>\n",
       "      <td>cellular</td>\n",
       "      <td>nov</td>\n",
       "      <td>fri</td>\n",
       "      <td>...</td>\n",
       "      <td>999</td>\n",
       "      <td>0</td>\n",
       "      <td>nonexistent</td>\n",
       "      <td>-1.1</td>\n",
       "      <td>94.767</td>\n",
       "      <td>-50.8</td>\n",
       "      <td>1.028</td>\n",
       "      <td>4963</td>\n",
       "      <td>yes</td>\n",
       "      <td>25 &lt; 33</td>\n",
       "    </tr>\n",
       "    <tr>\n",
       "      <th>26873</th>\n",
       "      <td>46</td>\n",
       "      <td>blue-collar</td>\n",
       "      <td>married</td>\n",
       "      <td>professional.course</td>\n",
       "      <td>no</td>\n",
       "      <td>no</td>\n",
       "      <td>no</td>\n",
       "      <td>cellular</td>\n",
       "      <td>nov</td>\n",
       "      <td>fri</td>\n",
       "      <td>...</td>\n",
       "      <td>999</td>\n",
       "      <td>0</td>\n",
       "      <td>nonexistent</td>\n",
       "      <td>-1.1</td>\n",
       "      <td>94.767</td>\n",
       "      <td>-50.8</td>\n",
       "      <td>1.028</td>\n",
       "      <td>4963</td>\n",
       "      <td>no</td>\n",
       "      <td>0 &lt; 10</td>\n",
       "    </tr>\n",
       "  </tbody>\n",
       "</table>\n",
       "<p>26874 rows × 22 columns</p>\n",
       "</div>"
      ],
      "text/plain": [
       "       age          job  marital            education  default housing loan  \\\n",
       "0       56    housemaid  married             basic.4y       no      no   no   \n",
       "1       57     services  married          high.school  unknown      no   no   \n",
       "2       41  blue-collar  married              unknown  unknown      no   no   \n",
       "3       25     services   single          high.school       no     yes   no   \n",
       "4       29  blue-collar   single          high.school       no      no  yes   \n",
       "...    ...          ...      ...                  ...      ...     ...  ...   \n",
       "26869   36       admin.  married    university.degree       no      no   no   \n",
       "26870   37       admin.  married    university.degree       no     yes   no   \n",
       "26871   29   unemployed   single             basic.4y       no     yes   no   \n",
       "26872   73      retired  married  professional.course       no     yes   no   \n",
       "26873   46  blue-collar  married  professional.course       no      no   no   \n",
       "\n",
       "         contact month day_of_week  ...  days_since_previous  previous  \\\n",
       "0      telephone   may         mon  ...                  999         0   \n",
       "1      telephone   may         mon  ...                  999         0   \n",
       "2      telephone   may         mon  ...                  999         0   \n",
       "3      telephone   may         mon  ...                  999         0   \n",
       "4      telephone   may         mon  ...                  999         0   \n",
       "...          ...   ...         ...  ...                  ...       ...   \n",
       "26869   cellular   nov         fri  ...                  999         0   \n",
       "26870   cellular   nov         fri  ...                  999         0   \n",
       "26871   cellular   nov         fri  ...                    9         1   \n",
       "26872   cellular   nov         fri  ...                  999         0   \n",
       "26873   cellular   nov         fri  ...                  999         0   \n",
       "\n",
       "       previous_outcome  emp.var.rate cons.price.idx  cons.conf.idx  \\\n",
       "0           nonexistent           1.1         93.994          -36.4   \n",
       "1           nonexistent           1.1         93.994          -36.4   \n",
       "2           nonexistent           1.1         93.994          -36.4   \n",
       "3           nonexistent           1.1         93.994          -36.4   \n",
       "4           nonexistent           1.1         93.994          -36.4   \n",
       "...                 ...           ...            ...            ...   \n",
       "26869       nonexistent          -1.1         94.767          -50.8   \n",
       "26870       nonexistent          -1.1         94.767          -50.8   \n",
       "26871           success          -1.1         94.767          -50.8   \n",
       "26872       nonexistent          -1.1         94.767          -50.8   \n",
       "26873       nonexistent          -1.1         94.767          -50.8   \n",
       "\n",
       "       euribor3m  nr.employed  response     job2  \n",
       "0          4.857         5191        no   0 < 10  \n",
       "1          4.857         5191        no   0 < 10  \n",
       "2          4.857         5191        no   0 < 10  \n",
       "3          4.857         5191        no   0 < 10  \n",
       "4          4.857         5191        no   0 < 10  \n",
       "...          ...          ...       ...      ...  \n",
       "26869      1.028         4963        no  10 < 25  \n",
       "26870      1.028         4963       yes  10 < 25  \n",
       "26871      1.028         4963        no  10 < 25  \n",
       "26872      1.028         4963       yes  25 < 33  \n",
       "26873      1.028         4963        no   0 < 10  \n",
       "\n",
       "[26874 rows x 22 columns]"
      ]
     },
     "execution_count": 32,
     "metadata": {},
     "output_type": "execute_result"
    }
   ],
   "source": [
    "bank.replace(dict_job2, inplace=True) # See changes in the job field.\n",
    "bank "
   ]
  },
  {
   "cell_type": "code",
   "execution_count": 33,
   "id": "73604b8f-6f83-4560-a883-b21b2ec199a9",
   "metadata": {},
   "outputs": [],
   "source": [
    "# b. Provide a contingency table of job2 with response, with counts and column percentages. Describe what you see."
   ]
  },
  {
   "cell_type": "code",
   "execution_count": 34,
   "id": "6d4fdf5c-56b7-48ec-a618-1adc9147f197",
   "metadata": {},
   "outputs": [
    {
     "data": {
      "text/html": [
       "<div>\n",
       "<style scoped>\n",
       "    .dataframe tbody tr th:only-of-type {\n",
       "        vertical-align: middle;\n",
       "    }\n",
       "\n",
       "    .dataframe tbody tr th {\n",
       "        vertical-align: top;\n",
       "    }\n",
       "\n",
       "    .dataframe thead th {\n",
       "        text-align: right;\n",
       "    }\n",
       "</style>\n",
       "<table border=\"1\" class=\"dataframe\">\n",
       "  <thead>\n",
       "    <tr style=\"text-align: right;\">\n",
       "      <th>job2</th>\n",
       "      <th>0 &lt; 10</th>\n",
       "      <th>10 &lt; 25</th>\n",
       "      <th>25 &lt; 33</th>\n",
       "    </tr>\n",
       "    <tr>\n",
       "      <th>response</th>\n",
       "      <th></th>\n",
       "      <th></th>\n",
       "      <th></th>\n",
       "    </tr>\n",
       "  </thead>\n",
       "  <tbody>\n",
       "    <tr>\n",
       "      <th>no</th>\n",
       "      <td>9492</td>\n",
       "      <td>13138</td>\n",
       "      <td>1256</td>\n",
       "    </tr>\n",
       "    <tr>\n",
       "      <th>yes</th>\n",
       "      <td>763</td>\n",
       "      <td>1740</td>\n",
       "      <td>485</td>\n",
       "    </tr>\n",
       "  </tbody>\n",
       "</table>\n",
       "</div>"
      ],
      "text/plain": [
       "job2      0 < 10  10 < 25  25 < 33\n",
       "response                          \n",
       "no          9492    13138     1256\n",
       "yes          763     1740      485"
      ]
     },
     "execution_count": 34,
     "metadata": {},
     "output_type": "execute_result"
    }
   ],
   "source": [
    "crosstab04 = pd.crosstab(bank['response'],bank['job2']) # with counts\n",
    "crosstab04    "
   ]
  },
  {
   "cell_type": "code",
   "execution_count": 35,
   "id": "dd9ab88b-c232-4a64-86a7-2ba66da258d8",
   "metadata": {},
   "outputs": [
    {
     "data": {
      "text/html": [
       "<div>\n",
       "<style scoped>\n",
       "    .dataframe tbody tr th:only-of-type {\n",
       "        vertical-align: middle;\n",
       "    }\n",
       "\n",
       "    .dataframe tbody tr th {\n",
       "        vertical-align: top;\n",
       "    }\n",
       "\n",
       "    .dataframe thead th {\n",
       "        text-align: right;\n",
       "    }\n",
       "</style>\n",
       "<table border=\"1\" class=\"dataframe\">\n",
       "  <thead>\n",
       "    <tr style=\"text-align: right;\">\n",
       "      <th>job2</th>\n",
       "      <th>0 &lt; 10</th>\n",
       "      <th>10 &lt; 25</th>\n",
       "      <th>25 &lt; 33</th>\n",
       "    </tr>\n",
       "    <tr>\n",
       "      <th>response</th>\n",
       "      <th></th>\n",
       "      <th></th>\n",
       "      <th></th>\n",
       "    </tr>\n",
       "  </thead>\n",
       "  <tbody>\n",
       "    <tr>\n",
       "      <th>no</th>\n",
       "      <td>92.56</td>\n",
       "      <td>88.3</td>\n",
       "      <td>72.14</td>\n",
       "    </tr>\n",
       "    <tr>\n",
       "      <th>yes</th>\n",
       "      <td>7.44</td>\n",
       "      <td>11.7</td>\n",
       "      <td>27.86</td>\n",
       "    </tr>\n",
       "  </tbody>\n",
       "</table>\n",
       "</div>"
      ],
      "text/plain": [
       "job2      0 < 10  10 < 25  25 < 33\n",
       "response                          \n",
       "no         92.56     88.3    72.14\n",
       "yes         7.44     11.7    27.86"
      ]
     },
     "execution_count": 35,
     "metadata": {},
     "output_type": "execute_result"
    }
   ],
   "source": [
    "norm_ct04 = round(crosstab04.div(crosstab04.sum(0),axis=1)*100,2) # column with percentages\n",
    "norm_ct04"
   ]
  },
  {
   "cell_type": "code",
   "execution_count": 36,
   "id": "30b7eca9-ecc0-4ecd-bd99-931f28b5137e",
   "metadata": {},
   "outputs": [],
   "source": [
    "# After categorizing response based on percentages, I can see the proportion as percentage of the response within each category. \n",
    "# However to know the majority category, we refer to the first contingincy table (crosstab04), \n",
    "# where it's obvious that Jcode2 has the most number of records. "
   ]
  },
  {
   "cell_type": "code",
   "execution_count": 37,
   "id": "461c6f4e-bda7-4758-a285-456bd31db6b0",
   "metadata": {},
   "outputs": [],
   "source": [
    "# c. Provide a normalized histogram of job2 with response. Describe the relationship. "
   ]
  },
  {
   "cell_type": "code",
   "execution_count": 38,
   "id": "a4a31bb3-3108-4f15-b41a-6c06b7120c3d",
   "metadata": {},
   "outputs": [],
   "source": [
    "job2_yes = bank[bank.response == \"yes\"]['job2']\n",
    "job2_no = bank[bank.response == \"no\"]['job2']"
   ]
  },
  {
   "cell_type": "code",
   "execution_count": 39,
   "id": "6631d99a-c7f5-4246-a77e-8f26386fbc2e",
   "metadata": {},
   "outputs": [
    {
     "data": {
      "image/png": "[encoded data removed]",
      "text/plain": [
       "<Figure size 432x288 with 1 Axes>"
      ]
     },
     "metadata": {
      "needs_background": "light"
     },
     "output_type": "display_data"
    }
   ],
   "source": [
    "plt.hist([job2_yes,job2_no], stacked = True)\n",
    "plt.legend(['Response = Yes', 'Response = No'])\n",
    "plt.title('Histogram of Job2 with Response Overlay')\n",
    "plt.xlabel('Job2'); plt.ylabel('Frequency'); plt.show()"
   ]
  },
  {
   "cell_type": "code",
   "execution_count": 40,
   "id": "f5c6133a-edbb-4974-8431-6c4a11f5da7f",
   "metadata": {},
   "outputs": [
    {
     "data": {
      "image/png": "[encoded data removed]",
      "text/plain": [
       "<Figure size 432x288 with 1 Axes>"
      ]
     },
     "metadata": {
      "needs_background": "light"
     },
     "output_type": "display_data"
    }
   ],
   "source": [
    "(n , bins, patches) = plt.hist([job2_yes,job2_no], stacked = True)"
   ]
  },
  {
   "cell_type": "code",
   "execution_count": 41,
   "id": "60b815ff-9628-4050-ae81-81ad8d6315bd",
   "metadata": {},
   "outputs": [],
   "source": [
    "n_table = np.column_stack ((n[0], n[1]))"
   ]
  },
  {
   "cell_type": "code",
   "execution_count": 42,
   "id": "644a770d-ab26-430e-ba87-0e123af1f3a0",
   "metadata": {},
   "outputs": [],
   "source": [
    "ourbins = np.column_stack ((bins[0:10], bins[1:11]))"
   ]
  },
  {
   "cell_type": "code",
   "execution_count": 43,
   "id": "ff3c198e-8623-4bea-be82-6de73e3d7f38",
   "metadata": {},
   "outputs": [
    {
     "name": "stderr",
     "output_type": "stream",
     "text": [
      "<ipython-input-43-2143064463f8>:1: RuntimeWarning: invalid value encountered in true_divide\n",
      "  n_norm = n_table / n_table.sum (axis=1)[:, None]\n"
     ]
    }
   ],
   "source": [
    "n_norm = n_table / n_table.sum (axis=1)[:, None]"
   ]
  },
  {
   "cell_type": "code",
   "execution_count": 44,
   "id": "2bd5ff12-f77a-43e5-9f7f-962b0374d101",
   "metadata": {},
   "outputs": [
    {
     "data": {
      "image/png": "[encoded data removed]",
      "text/plain": [
       "<Figure size 432x288 with 1 Axes>"
      ]
     },
     "metadata": {
      "needs_background": "light"
     },
     "output_type": "display_data"
    }
   ],
   "source": [
    "p1 = plt.bar (x = ourbins [:,0], height = n_norm [:,0], width = ourbins [:, 1] - ourbins [:,0])\n",
    "p2 = plt.bar (x = ourbins [:,0], height = n_norm [:,1], width = ourbins [:, 1] - ourbins [:, 0], bottom = n_norm [:,0])\n",
    "plt.legend(['Response = Yes', 'Response =No'])\n",
    "plt.title('Normalized Histogram of Job2 with Response Overlay')\n",
    "plt.xlabel('job2'); plt.ylabel ('Proportion'); plt.show()"
   ]
  },
  {
   "cell_type": "code",
   "execution_count": 45,
   "id": "c865c209-e7ab-4fd4-ae55-571577f5c8f6",
   "metadata": {},
   "outputs": [],
   "source": [
    "# Here I can identify the proption of response within each category to see which category has the most yes responses as percentage within the category.\n"
   ]
  }
 ],
 "metadata": {
  "kernelspec": {
   "display_name": "Python 3",
   "language": "python",
   "name": "python3"
  },
  "language_info": {
   "codemirror_mode": {
    "name": "ipython",
    "version": 3
   },
   "file_extension": ".py",
   "mimetype": "text/x-python",
   "name": "python",
   "nbconvert_exporter": "python",
   "pygments_lexer": "ipython3",
   "version": "3.8.8"
  }
 },
 "nbformat": 4,
 "nbformat_minor": 5
}
