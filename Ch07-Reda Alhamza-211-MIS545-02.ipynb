{
 "cells": [
  {
   "cell_type": "code",
   "execution_count": 1,
   "id": "b16b0b0e-46d7-49d9-b964-98fad46e38e6",
   "metadata": {},
   "outputs": [],
   "source": [
    "# Reda Alhamza, 201365390                                   Ch7 Assignment                                                       211-MIS-545-02"
   ]
  },
  {
   "cell_type": "code",
   "execution_count": 2,
   "id": "b93225f0-119a-4d1c-95fd-0fe365929f95",
   "metadata": {},
   "outputs": [],
   "source": [
    "import pandas as pd"
   ]
  },
  {
   "cell_type": "code",
   "execution_count": 3,
   "id": "3c920754-cd2b-476e-961d-0c7b1d1f8d79",
   "metadata": {},
   "outputs": [],
   "source": [
    "Loans_Training = pd.read_csv(\"D:/DatasetsP/Loans_Training\")"
   ]
  },
  {
   "cell_type": "code",
   "execution_count": 4,
   "id": "ac35fed7-2dbe-47a2-a8c3-00aae88ea71a",
   "metadata": {},
   "outputs": [],
   "source": [
    "Loans_Test = pd.read_csv(\"D:/DatasetsP/Loans_Test\")"
   ]
  },
  {
   "cell_type": "markdown",
   "id": "907aa1b5-f74d-4b70-ab5a-afc523622720",
   "metadata": {},
   "source": [
    "# Q1: Using the training data set, create a C5.0 model (call it Model 1) to predict a loan applicant's Approval using Debt‐to‐Income Ratio, FICO Score, and Request Amount. Obtain the predicted responses. "
   ]
  },
  {
   "cell_type": "code",
   "execution_count": 5,
   "id": "5db7f02a-a687-48bb-ac28-c86237e8e357",
   "metadata": {},
   "outputs": [],
   "source": [
    "Loans_Training['Approval'].replace({'T':1, 'F':0}, inplace=True)\n",
    "Loans_Test['Approval'].replace({'T':1, 'F':0}, inplace=True)"
   ]
  },
  {
   "cell_type": "code",
   "execution_count": 6,
   "id": "a5bce38f-7eff-41ad-96a7-abc7a58c7eec",
   "metadata": {},
   "outputs": [],
   "source": [
    "y = Loans_Training[['Approval']] # outcome variable"
   ]
  },
  {
   "cell_type": "code",
   "execution_count": 7,
   "id": "b5964210-8f6c-4a50-855e-c59a950272cd",
   "metadata": {},
   "outputs": [],
   "source": [
    "X = Loans_Training[['Debt-to-Income Ratio', 'FICO Score', 'Request Amount']] # Predictors"
   ]
  },
  {
   "cell_type": "code",
   "execution_count": 8,
   "id": "c1656182-3480-449b-894c-52ddebdee33c",
   "metadata": {},
   "outputs": [],
   "source": [
    "import statsmodels.tools.tools as stattools \n",
    "from sklearn.tree import DecisionTreeClassifier , export_graphviz # To be able to use DecisionTreeClassifier, import this package."
   ]
  },
  {
   "cell_type": "code",
   "execution_count": 9,
   "id": "67188023-417e-4368-8bca-f6c98a0925e6",
   "metadata": {},
   "outputs": [],
   "source": [
    "Model_1 = DecisionTreeClassifier(criterion=\"entropy\", min_samples_split =75,max_leaf_nodes =5).fit(X,y)"
   ]
  },
  {
   "cell_type": "code",
   "execution_count": 10,
   "id": "5f13687d-fb4f-4fbb-8ae2-eab97d40e42a",
   "metadata": {},
   "outputs": [
    {
     "data": {
      "text/plain": [
       "array([0, 0, 0, ..., 0, 0, 0], dtype=int64)"
      ]
     },
     "execution_count": 10,
     "metadata": {},
     "output_type": "execute_result"
    }
   ],
   "source": [
    "Model_1_predict = Model_1.predict(Loans_Test[['Debt-to-Income Ratio', 'FICO Score', 'Request Amount']])\n",
    "Model_1_predict"
   ]
  },
  {
   "cell_type": "markdown",
   "id": "0e520ab0-d99f-4690-93f6-f0cf14ce75e9",
   "metadata": {},
   "source": [
    "# Q2: Evaluate Model 1 using the test data set. Construct a contingency table to compare the actual and predicted values of Approval. "
   ]
  },
  {
   "cell_type": "code",
   "execution_count": 11,
   "id": "f80d8930-c6a4-431b-bf9b-4d83e6e54eda",
   "metadata": {},
   "outputs": [
    {
     "data": {
      "text/html": [
       "<div>\n",
       "<style scoped>\n",
       "    .dataframe tbody tr th:only-of-type {\n",
       "        vertical-align: middle;\n",
       "    }\n",
       "\n",
       "    .dataframe tbody tr th {\n",
       "        vertical-align: top;\n",
       "    }\n",
       "\n",
       "    .dataframe thead th {\n",
       "        text-align: right;\n",
       "    }\n",
       "</style>\n",
       "<table border=\"1\" class=\"dataframe\">\n",
       "  <thead>\n",
       "    <tr style=\"text-align: right;\">\n",
       "      <th>col_0</th>\n",
       "      <th>0</th>\n",
       "      <th>1</th>\n",
       "    </tr>\n",
       "    <tr>\n",
       "      <th>Approval</th>\n",
       "      <th></th>\n",
       "      <th></th>\n",
       "    </tr>\n",
       "  </thead>\n",
       "  <tbody>\n",
       "    <tr>\n",
       "      <th>0</th>\n",
       "      <td>17665</td>\n",
       "      <td>7269</td>\n",
       "    </tr>\n",
       "    <tr>\n",
       "      <th>1</th>\n",
       "      <td>751</td>\n",
       "      <td>24013</td>\n",
       "    </tr>\n",
       "  </tbody>\n",
       "</table>\n",
       "</div>"
      ],
      "text/plain": [
       "col_0         0      1\n",
       "Approval              \n",
       "0         17665   7269\n",
       "1           751  24013"
      ]
     },
     "execution_count": 11,
     "metadata": {},
     "output_type": "execute_result"
    }
   ],
   "source": [
    "con_table = pd.crosstab(Loans_Test['Approval'], Model_1_predict)\n",
    "con_table"
   ]
  },
  {
   "cell_type": "markdown",
   "id": "42c2029b-b43f-4be0-bcb8-e3f2aa931a02",
   "metadata": {},
   "source": [
    "# Q3: Do the following to construct the simplified data‐driven cost matrix: \n",
    "# a. Compute the mean of the Interest per loan applicant from the training data set. Set the negative of that value to be the “cost” of a true positive. Calculate the mean Request Amount per loan applicant from the training data set. Set this value to be the cost of a false positive."
   ]
  },
  {
   "cell_type": "code",
   "execution_count": 12,
   "id": "3956608b-2859-4645-a1ed-97137cf04fdf",
   "metadata": {},
   "outputs": [],
   "source": [
    "TP_C = -round(Loans_Training['Interest'].mean(),2)\n",
    "FP_C = round(Loans_Training['Request Amount'].mean(),2)\n",
    "TN_C = 0\n",
    "FN_C = 0"
   ]
  },
  {
   "cell_type": "code",
   "execution_count": 13,
   "id": "c177dafc-3b52-4b8b-ba11-2ca9c2eb6d0d",
   "metadata": {},
   "outputs": [
    {
     "data": {
      "text/html": [
       "<div>\n",
       "<style scoped>\n",
       "    .dataframe tbody tr th:only-of-type {\n",
       "        vertical-align: middle;\n",
       "    }\n",
       "\n",
       "    .dataframe tbody tr th {\n",
       "        vertical-align: top;\n",
       "    }\n",
       "\n",
       "    .dataframe thead th {\n",
       "        text-align: right;\n",
       "    }\n",
       "</style>\n",
       "<table border=\"1\" class=\"dataframe\">\n",
       "  <thead>\n",
       "    <tr style=\"text-align: right;\">\n",
       "      <th></th>\n",
       "      <th>0</th>\n",
       "      <th>1</th>\n",
       "    </tr>\n",
       "  </thead>\n",
       "  <tbody>\n",
       "    <tr>\n",
       "      <th>0</th>\n",
       "      <td>0</td>\n",
       "      <td>13427.08</td>\n",
       "    </tr>\n",
       "    <tr>\n",
       "      <th>1</th>\n",
       "      <td>0</td>\n",
       "      <td>-6042.19</td>\n",
       "    </tr>\n",
       "  </tbody>\n",
       "</table>\n",
       "</div>"
      ],
      "text/plain": [
       "   0         1\n",
       "0  0  13427.08\n",
       "1  0  -6042.19"
      ]
     },
     "execution_count": 13,
     "metadata": {},
     "output_type": "execute_result"
    }
   ],
   "source": [
    "A = pd.DataFrame([[TN_C, FP_C],[FN_C, TP_C]])\n",
    "A"
   ]
  },
  {
   "cell_type": "markdown",
   "id": "9ee3e3e9-7333-4c8f-b9b4-c0accf2ac6a2",
   "metadata": {},
   "source": [
    "# b. Obtain the simplified data‐driven cost matrix."
   ]
  },
  {
   "cell_type": "code",
   "execution_count": 14,
   "id": "0c2ec287-2038-4ce2-957c-870a4f00b02b",
   "metadata": {},
   "outputs": [
    {
     "data": {
      "text/html": [
       "<div>\n",
       "<style scoped>\n",
       "    .dataframe tbody tr th:only-of-type {\n",
       "        vertical-align: middle;\n",
       "    }\n",
       "\n",
       "    .dataframe tbody tr th {\n",
       "        vertical-align: top;\n",
       "    }\n",
       "\n",
       "    .dataframe thead th {\n",
       "        text-align: right;\n",
       "    }\n",
       "</style>\n",
       "<table border=\"1\" class=\"dataframe\">\n",
       "  <thead>\n",
       "    <tr style=\"text-align: right;\">\n",
       "      <th></th>\n",
       "      <th>0</th>\n",
       "      <th>1</th>\n",
       "    </tr>\n",
       "  </thead>\n",
       "  <tbody>\n",
       "    <tr>\n",
       "      <th>0</th>\n",
       "      <td>0.00</td>\n",
       "      <td>1.0</td>\n",
       "    </tr>\n",
       "    <tr>\n",
       "      <th>1</th>\n",
       "      <td>0.45</td>\n",
       "      <td>0.0</td>\n",
       "    </tr>\n",
       "  </tbody>\n",
       "</table>\n",
       "</div>"
      ],
      "text/plain": [
       "      0    1\n",
       "0  0.00  1.0\n",
       "1  0.45  0.0"
      ]
     },
     "execution_count": 14,
     "metadata": {},
     "output_type": "execute_result"
    }
   ],
   "source": [
    "cost_r = pd.DataFrame([[A.iloc[0,0]/A.iloc[0,1], A.iloc[0,1]/A.iloc[0,1]],[A.iloc[1,0]/A.iloc[0,1]-A.iloc[1,1]/A.iloc[0,1], A.iloc[1,1]/A.iloc[0,1]-A.iloc[1,1]/A.iloc[0,1]]])\n",
    "cost_r  "
   ]
  },
  {
   "cell_type": "markdown",
   "id": "52f36369-6831-44eb-8ef4-5d2dac3ed61c",
   "metadata": {},
   "source": [
    "# Q4: For Model 1, calculate all of the model evaluation measures as shown in the table below. Call this table the Model Evaluation Table."
   ]
  },
  {
   "cell_type": "code",
   "execution_count": 15,
   "id": "57c68ce4-af3c-43fa-a6bc-d0807bb856f8",
   "metadata": {},
   "outputs": [],
   "source": [
    "def model_eval(matrix, matrix1, model_name ):\n",
    "    tn = matrix.iloc[0,0]\n",
    "    tp = matrix.iloc[1,1]\n",
    "    fn = matrix.iloc[1,0]\n",
    "    fp = matrix.iloc[0,1]\n",
    "    tap = fn+tp\n",
    "    tan = tn+fp\n",
    "    tpn = tn+fn\n",
    "    tpp = fp+tp\n",
    "    precision = tp / tpp\n",
    "    recall = tp / tap\n",
    "    total = tn+tp+fn+fp\n",
    "    tn_c = matrix1.iloc[0,0]\n",
    "    fn_c = matrix1.iloc[1,0]\n",
    "    fp_c = matrix1.iloc[0,1]  \n",
    "    tp_c = matrix1.iloc[1,1] \n",
    "    \n",
    "    \n",
    "    data = [\n",
    "        round((tp+tn)/total,4),\n",
    "        round(1-((tp+tn)/total),4),\n",
    "        round(tp /tap,4),\n",
    "        round(tn /tan,4),\n",
    "        round(precision,4),\n",
    "        round(2 * (precision * recall) / (precision + recall),4),\n",
    "        round(5 * (precision * recall) / ((4 * precision) + recall),4),\n",
    "        round(1.25 * (precision * recall) / ((.25 * precision) + recall),4),\n",
    "        round((fn*fn_c + tn*tn_c + fp*fp_c + tp*tp_c),4), # Overall Model Cost\n",
    "        round(-(fn*fn_c + tn*tn_c + fp*fp_c + tp*tp_c)/total,4), # Model Profit per Record\n",
    "                                                                                ]\n",
    "    return(\n",
    "        pd.DataFrame(data, columns=[model_name],\n",
    "        index = ['Accuracy','ErrorRate','Sensitivity','Specificity','Precision','F1','F2','F3','Overall Cost','Profit per Customer'])\n",
    "                                                                                                 )"
   ]
  },
  {
   "cell_type": "code",
   "execution_count": 16,
   "id": "b45f3410-12cc-484d-a4f5-97f7235f5c3c",
   "metadata": {},
   "outputs": [
    {
     "data": {
      "text/html": [
       "<div>\n",
       "<style scoped>\n",
       "    .dataframe tbody tr th:only-of-type {\n",
       "        vertical-align: middle;\n",
       "    }\n",
       "\n",
       "    .dataframe tbody tr th {\n",
       "        vertical-align: top;\n",
       "    }\n",
       "\n",
       "    .dataframe thead th {\n",
       "        text-align: right;\n",
       "    }\n",
       "</style>\n",
       "<table border=\"1\" class=\"dataframe\">\n",
       "  <thead>\n",
       "    <tr style=\"text-align: right;\">\n",
       "      <th></th>\n",
       "      <th>Model 1</th>\n",
       "    </tr>\n",
       "  </thead>\n",
       "  <tbody>\n",
       "    <tr>\n",
       "      <th>Accuracy</th>\n",
       "      <td>8.386000e-01</td>\n",
       "    </tr>\n",
       "    <tr>\n",
       "      <th>ErrorRate</th>\n",
       "      <td>1.614000e-01</td>\n",
       "    </tr>\n",
       "    <tr>\n",
       "      <th>Sensitivity</th>\n",
       "      <td>9.697000e-01</td>\n",
       "    </tr>\n",
       "    <tr>\n",
       "      <th>Specificity</th>\n",
       "      <td>7.085000e-01</td>\n",
       "    </tr>\n",
       "    <tr>\n",
       "      <th>Precision</th>\n",
       "      <td>7.676000e-01</td>\n",
       "    </tr>\n",
       "    <tr>\n",
       "      <th>F1</th>\n",
       "      <td>8.569000e-01</td>\n",
       "    </tr>\n",
       "    <tr>\n",
       "      <th>F2</th>\n",
       "      <td>9.212000e-01</td>\n",
       "    </tr>\n",
       "    <tr>\n",
       "      <th>F3</th>\n",
       "      <td>8.010000e-01</td>\n",
       "    </tr>\n",
       "    <tr>\n",
       "      <th>Overall Cost</th>\n",
       "      <td>-4.748966e+07</td>\n",
       "    </tr>\n",
       "    <tr>\n",
       "      <th>Profit per Customer</th>\n",
       "      <td>9.555649e+02</td>\n",
       "    </tr>\n",
       "  </tbody>\n",
       "</table>\n",
       "</div>"
      ],
      "text/plain": [
       "                          Model 1\n",
       "Accuracy             8.386000e-01\n",
       "ErrorRate            1.614000e-01\n",
       "Sensitivity          9.697000e-01\n",
       "Specificity          7.085000e-01\n",
       "Precision            7.676000e-01\n",
       "F1                   8.569000e-01\n",
       "F2                   9.212000e-01\n",
       "F3                   8.010000e-01\n",
       "Overall Cost        -4.748966e+07\n",
       "Profit per Customer  9.555649e+02"
      ]
     },
     "execution_count": 16,
     "metadata": {},
     "output_type": "execute_result"
    }
   ],
   "source": [
    "Model= model_eval(con_table, A , model_name = 'Model 1')\n",
    "Model"
   ]
  },
  {
   "cell_type": "markdown",
   "id": "6676da28-32b5-40ec-b2d1-b87092996a48",
   "metadata": {},
   "source": [
    "# Q5: Using the training set, build a C5.0 model (call it Model 2) to predict a loan applicant's Approval using Debt‐to‐Income Ratio, FICO Score, and Request Amount, using the simplified data‐driven cost matrix. Populate the Model Evaluation Table with the evaluation measures for Model 2, using the data‐driven cost matrix as shown in the results below. "
   ]
  },
  {
   "cell_type": "code",
   "execution_count": 17,
   "id": "48a5e585-4a24-4bf3-ae3a-80cb2ab2e982",
   "metadata": {},
   "outputs": [],
   "source": [
    "cost_matrix = {0:A.iloc[0,1]/A.iloc[0,1], 1:A.iloc[1,0]/A.iloc[0,1]-A.iloc[1,1]/A.iloc[0,1]}\n",
    "Model2 = DecisionTreeClassifier(criterion=\"entropy\", min_samples_split =75, max_leaf_nodes =5, class_weight =cost_matrix).fit(X,y)\n",
    "\n",
    "Model2_predict = Model2.predict(Loans_Test[['Debt-to-Income Ratio', 'FICO Score', 'Request Amount']])\n",
    "\n",
    "con_table2 = pd.crosstab(Loans_Test['Approval'], Model2_predict)"
   ]
  },
  {
   "cell_type": "code",
   "execution_count": 18,
   "id": "2c237e25-efb8-4ce1-8f14-4b2bc1f13279",
   "metadata": {},
   "outputs": [
    {
     "data": {
      "text/html": [
       "<div>\n",
       "<style scoped>\n",
       "    .dataframe tbody tr th:only-of-type {\n",
       "        vertical-align: middle;\n",
       "    }\n",
       "\n",
       "    .dataframe tbody tr th {\n",
       "        vertical-align: top;\n",
       "    }\n",
       "\n",
       "    .dataframe thead th {\n",
       "        text-align: right;\n",
       "    }\n",
       "</style>\n",
       "<table border=\"1\" class=\"dataframe\">\n",
       "  <thead>\n",
       "    <tr style=\"text-align: right;\">\n",
       "      <th></th>\n",
       "      <th>Model 2</th>\n",
       "    </tr>\n",
       "  </thead>\n",
       "  <tbody>\n",
       "    <tr>\n",
       "      <th>Accuracy</th>\n",
       "      <td>8.210000e-01</td>\n",
       "    </tr>\n",
       "    <tr>\n",
       "      <th>ErrorRate</th>\n",
       "      <td>1.790000e-01</td>\n",
       "    </tr>\n",
       "    <tr>\n",
       "      <th>Sensitivity</th>\n",
       "      <td>8.096000e-01</td>\n",
       "    </tr>\n",
       "    <tr>\n",
       "      <th>Specificity</th>\n",
       "      <td>8.324000e-01</td>\n",
       "    </tr>\n",
       "    <tr>\n",
       "      <th>Precision</th>\n",
       "      <td>8.275000e-01</td>\n",
       "    </tr>\n",
       "    <tr>\n",
       "      <th>F1</th>\n",
       "      <td>8.185000e-01</td>\n",
       "    </tr>\n",
       "    <tr>\n",
       "      <th>F2</th>\n",
       "      <td>8.131000e-01</td>\n",
       "    </tr>\n",
       "    <tr>\n",
       "      <th>F3</th>\n",
       "      <td>8.239000e-01</td>\n",
       "    </tr>\n",
       "    <tr>\n",
       "      <th>Overall Cost</th>\n",
       "      <td>-6.502072e+07</td>\n",
       "    </tr>\n",
       "    <tr>\n",
       "      <th>Profit per Customer</th>\n",
       "      <td>1.308316e+03</td>\n",
       "    </tr>\n",
       "  </tbody>\n",
       "</table>\n",
       "</div>"
      ],
      "text/plain": [
       "                          Model 2\n",
       "Accuracy             8.210000e-01\n",
       "ErrorRate            1.790000e-01\n",
       "Sensitivity          8.096000e-01\n",
       "Specificity          8.324000e-01\n",
       "Precision            8.275000e-01\n",
       "F1                   8.185000e-01\n",
       "F2                   8.131000e-01\n",
       "F3                   8.239000e-01\n",
       "Overall Cost        -6.502072e+07\n",
       "Profit per Customer  1.308316e+03"
      ]
     },
     "execution_count": 18,
     "metadata": {},
     "output_type": "execute_result"
    }
   ],
   "source": [
    "Model_2 = model_eval(con_table2, A , model_name = 'Model 2')\n",
    "Model_2"
   ]
  },
  {
   "cell_type": "code",
   "execution_count": 19,
   "id": "f06df35e-bfa0-4f87-88f4-5e848d20add3",
   "metadata": {},
   "outputs": [
    {
     "data": {
      "text/html": [
       "<div>\n",
       "<style scoped>\n",
       "    .dataframe tbody tr th:only-of-type {\n",
       "        vertical-align: middle;\n",
       "    }\n",
       "\n",
       "    .dataframe tbody tr th {\n",
       "        vertical-align: top;\n",
       "    }\n",
       "\n",
       "    .dataframe thead th {\n",
       "        text-align: right;\n",
       "    }\n",
       "</style>\n",
       "<table border=\"1\" class=\"dataframe\">\n",
       "  <thead>\n",
       "    <tr style=\"text-align: right;\">\n",
       "      <th></th>\n",
       "      <th>Model 1</th>\n",
       "      <th>Model 2</th>\n",
       "    </tr>\n",
       "  </thead>\n",
       "  <tbody>\n",
       "    <tr>\n",
       "      <th>Accuracy</th>\n",
       "      <td>8.386000e-01</td>\n",
       "      <td>8.210000e-01</td>\n",
       "    </tr>\n",
       "    <tr>\n",
       "      <th>ErrorRate</th>\n",
       "      <td>1.614000e-01</td>\n",
       "      <td>1.790000e-01</td>\n",
       "    </tr>\n",
       "    <tr>\n",
       "      <th>Sensitivity</th>\n",
       "      <td>9.697000e-01</td>\n",
       "      <td>8.096000e-01</td>\n",
       "    </tr>\n",
       "    <tr>\n",
       "      <th>Specificity</th>\n",
       "      <td>7.085000e-01</td>\n",
       "      <td>8.324000e-01</td>\n",
       "    </tr>\n",
       "    <tr>\n",
       "      <th>Precision</th>\n",
       "      <td>7.676000e-01</td>\n",
       "      <td>8.275000e-01</td>\n",
       "    </tr>\n",
       "    <tr>\n",
       "      <th>F1</th>\n",
       "      <td>8.569000e-01</td>\n",
       "      <td>8.185000e-01</td>\n",
       "    </tr>\n",
       "    <tr>\n",
       "      <th>F2</th>\n",
       "      <td>9.212000e-01</td>\n",
       "      <td>8.131000e-01</td>\n",
       "    </tr>\n",
       "    <tr>\n",
       "      <th>F3</th>\n",
       "      <td>8.010000e-01</td>\n",
       "      <td>8.239000e-01</td>\n",
       "    </tr>\n",
       "    <tr>\n",
       "      <th>Overall Cost</th>\n",
       "      <td>-4.748966e+07</td>\n",
       "      <td>-6.502072e+07</td>\n",
       "    </tr>\n",
       "    <tr>\n",
       "      <th>Profit per Customer</th>\n",
       "      <td>9.555649e+02</td>\n",
       "      <td>1.308316e+03</td>\n",
       "    </tr>\n",
       "  </tbody>\n",
       "</table>\n",
       "</div>"
      ],
      "text/plain": [
       "                          Model 1       Model 2\n",
       "Accuracy             8.386000e-01  8.210000e-01\n",
       "ErrorRate            1.614000e-01  1.790000e-01\n",
       "Sensitivity          9.697000e-01  8.096000e-01\n",
       "Specificity          7.085000e-01  8.324000e-01\n",
       "Precision            7.676000e-01  8.275000e-01\n",
       "F1                   8.569000e-01  8.185000e-01\n",
       "F2                   9.212000e-01  8.131000e-01\n",
       "F3                   8.010000e-01  8.239000e-01\n",
       "Overall Cost        -4.748966e+07 -6.502072e+07\n",
       "Profit per Customer  9.555649e+02  1.308316e+03"
      ]
     },
     "execution_count": 19,
     "metadata": {},
     "output_type": "execute_result"
    }
   ],
   "source": [
    "All_Models = pd.concat([Model, Model_2], axis=1)\n",
    "All_Models"
   ]
  },
  {
   "cell_type": "markdown",
   "id": "8d19b41e-312b-4ea3-918c-161534f1c863",
   "metadata": {},
   "source": [
    "# For Profit per Customer, I belive there is a mistake if you can see page 106 in the textbook. Where the profit per Record = - Model Cost per Record "
   ]
  }
 ],
 "metadata": {
  "kernelspec": {
   "display_name": "Python 3",
   "language": "python",
   "name": "python3"
  },
  "language_info": {
   "codemirror_mode": {
    "name": "ipython",
    "version": 3
   },
   "file_extension": ".py",
   "mimetype": "text/x-python",
   "name": "python",
   "nbconvert_exporter": "python",
   "pygments_lexer": "ipython3",
   "version": "3.8.8"
  }
 },
 "nbformat": 4,
 "nbformat_minor": 5
}
